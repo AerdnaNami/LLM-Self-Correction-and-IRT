{
 "cells": [
  {
   "cell_type": "code",
   "execution_count": null,
   "metadata": {},
   "outputs": [],
   "source": [
    "import pandas as pd\n",
    "\n",
    "df_gpt = pd.read_csv('../data/responses/gpt4o/gpt4o_responses_annotated.csv')\n",
    "df_r1 = pd.read_csv('../data/responses/r1/r1_response_annotated.csv')\n",
    "df_phi = pd.read_csv('../data/responses/phi4/phi4_response_annotated.csv')\n",
    "df_gemma = pd.read_csv('../data/responses/gemma3/gemma3-27b_response_annotated.csv')\n",
    "\n",
    "df_r1 = df_r1.dropna()\n",
    "df_r1 = df_r1.head(50)\n",
    "df_gpt = df_gpt.head(50)\n",
    "df_phi = df_phi.head(50)\n",
    "df_gemma = df_gemma.head(50)"
   ]
  },
  {
   "cell_type": "code",
   "execution_count": 2,
   "metadata": {},
   "outputs": [
    {
     "name": "stdout",
     "output_type": "stream",
     "text": [
      "Error reasons present in GPT 4o: \n",
      " ['(1.3.2 Incorrect value of variable cited or used)'\n",
      " '(1.1.2 Value of a known variable calculated again)'\n",
      " '(1.3.1.1 Irrelevant/incorrect variable cited or used)'\n",
      " '(1.3.1.2 Relevant variable missing)' '2.1 Unit Inconsistency)'] \n",
      "\n",
      "Error Reasons present in DeepSeek R1: \n",
      " ['(1.1.2 Value of a known variable calculated again)'\n",
      " '(1.3.1.1 Irrelevant/incorrect variable cited or used)'\n",
      " '(1.3.2 Incorrect value of variable cited or used)'\n",
      " '2.3 Calculation Error)' '2.1 Unit Inconsistency)']\n",
      "Error Reasons present in Phi 4: \n",
      " ['(1.3.1.1 Irrelevant/incorrect variable cited or used)'\n",
      " '(1.3.2 Incorrect value of variable cited or used)'\n",
      " '(1.1.2 Value of a known variable calculated again)'\n",
      " '(1.3.1.2 Relevant variable missing)' '(3.3.2 Incorrect value)'\n",
      " '2.3 Calculation Error)' '2.1 Unit Inconsistency)']\n",
      "Error Reasons present in Gemma 3 27b: \n",
      " ['(1.3.1.2 Relevant variable missing)'\n",
      " '(1.3.1.1 Irrelevant/incorrect variable cited or used)'\n",
      " '(1.3.2 Incorrect value of variable cited or used)'\n",
      " '(1.1.2 Value of a known variable calculated again)'\n",
      " '2.1 Unit Inconsistency)']\n"
     ]
    }
   ],
   "source": [
    "error_reasons_gpt = df_gpt['Error Reason'].unique()\n",
    "error_reasons_r1 = df_r1['Error Reason'].unique()\n",
    "error_reasons_phi = df_phi['Error Reason'].unique()\n",
    "error_reasons_gemma = df_gemma['Error Reason'].unique()\n",
    "\n",
    "\n",
    "print('Error reasons present in GPT 4o: \\n',error_reasons_gpt, '\\n')\n",
    "print('Error Reasons present in DeepSeek R1: \\n', error_reasons_r1)\n",
    "print('Error Reasons present in Phi 4: \\n', error_reasons_phi)\n",
    "print('Error Reasons present in Gemma 3 27b: \\n', error_reasons_gemma)"
   ]
  },
  {
   "cell_type": "markdown",
   "metadata": {},
   "source": [
    "### GPT 4o findings"
   ]
  },
  {
   "cell_type": "code",
   "execution_count": 26,
   "metadata": {},
   "outputs": [
    {
     "data": {
      "text/plain": [
       "Error Reason\n",
       "(1.3.1.1 Irrelevant/incorrect variable cited or used)    19\n",
       "(1.1.2 Value of a known variable calculated again)       11\n",
       "(1.3.2 Incorrect value of variable cited or used)        10\n",
       "(1.3.1.2 Relevant variable missing)                       8\n",
       "2.1 Unit Inconsistency)                                   2\n",
       "Name: count, dtype: int64"
      ]
     },
     "execution_count": 26,
     "metadata": {},
     "output_type": "execute_result"
    }
   ],
   "source": [
    "df_gpt['Error Reason'].value_counts()"
   ]
  },
  {
   "cell_type": "code",
   "execution_count": 2,
   "metadata": {},
   "outputs": [
    {
     "data": {
      "text/plain": [
       "Error Step\n",
       "1.0    15\n",
       "3.0    13\n",
       "4.0    11\n",
       "5.0     5\n",
       "2.0     4\n",
       "6.0     2\n",
       "Name: count, dtype: int64"
      ]
     },
     "execution_count": 2,
     "metadata": {},
     "output_type": "execute_result"
    }
   ],
   "source": [
    "df_gpt['Error Step'].value_counts()"
   ]
  },
  {
   "cell_type": "code",
   "execution_count": 29,
   "metadata": {},
   "outputs": [
    {
     "data": {
      "text/plain": [
       "Total Steps\n",
       "6.0    17\n",
       "5.0    13\n",
       "7.0     9\n",
       "4.0     8\n",
       "8.0     2\n",
       "3.0     1\n",
       "Name: count, dtype: int64"
      ]
     },
     "execution_count": 29,
     "metadata": {},
     "output_type": "execute_result"
    }
   ],
   "source": [
    "df_gpt['Total Steps'].value_counts()"
   ]
  },
  {
   "cell_type": "markdown",
   "metadata": {},
   "source": [
    "Average of 5.62 steps taken to solve"
   ]
  },
  {
   "cell_type": "markdown",
   "metadata": {},
   "source": [
    "### DeepSeek R1 findings"
   ]
  },
  {
   "cell_type": "code",
   "execution_count": null,
   "metadata": {},
   "outputs": [
    {
     "data": {
      "text/plain": [
       "Error Reason\n",
       "(1.3.1.1 Irrelevant/incorrect variable cited or used)    24\n",
       "(1.1.2 Value of a known variable calculated again)       16\n",
       "(1.3.2 Incorrect value of variable cited or used)         7\n",
       "2.1 Unit Inconsistency)                                   2\n",
       "2.3 Calculation Error)                                    1\n",
       "Name: count, dtype: int64"
      ]
     },
     "execution_count": 27,
     "metadata": {},
     "output_type": "execute_result"
    }
   ],
   "source": [
    "df_r1['Error Reason'].value_counts()"
   ]
  },
  {
   "cell_type": "code",
   "execution_count": 28,
   "metadata": {},
   "outputs": [
    {
     "data": {
      "text/plain": [
       "Total Steps\n",
       "5    21\n",
       "4    17\n",
       "3     7\n",
       "6     5\n",
       "Name: count, dtype: int64"
      ]
     },
     "execution_count": 28,
     "metadata": {},
     "output_type": "execute_result"
    }
   ],
   "source": [
    "df_r1['Total Steps'].value_counts()"
   ]
  },
  {
   "cell_type": "markdown",
   "metadata": {},
   "source": [
    "average of 4.48 steps taken to solve "
   ]
  },
  {
   "cell_type": "markdown",
   "metadata": {},
   "source": [
    "### Phi 4"
   ]
  },
  {
   "cell_type": "code",
   "execution_count": 4,
   "metadata": {},
   "outputs": [
    {
     "data": {
      "text/plain": [
       "Error Reason\n",
       "(1.3.2 Incorrect value of variable cited or used)        18\n",
       "(1.3.1.1 Irrelevant/incorrect variable cited or used)    11\n",
       "(1.1.2 Value of a known variable calculated again)       11\n",
       "(1.3.1.2 Relevant variable missing)                       3\n",
       "2.3 Calculation Error)                                    3\n",
       "(3.3.2 Incorrect value)                                   2\n",
       "2.1 Unit Inconsistency)                                   1\n",
       "Name: count, dtype: int64"
      ]
     },
     "execution_count": 4,
     "metadata": {},
     "output_type": "execute_result"
    }
   ],
   "source": [
    "df_phi['Error Reason'].value_counts()"
   ]
  },
  {
   "cell_type": "code",
   "execution_count": 5,
   "metadata": {},
   "outputs": [
    {
     "data": {
      "text/plain": [
       "Total Steps\n",
       "4     14\n",
       "5     12\n",
       "6      8\n",
       "7      7\n",
       "8      5\n",
       "3      1\n",
       "10     1\n",
       "2      1\n",
       "Name: count, dtype: int64"
      ]
     },
     "execution_count": 5,
     "metadata": {},
     "output_type": "execute_result"
    }
   ],
   "source": [
    "df_phi['Total Steps'].value_counts()"
   ]
  },
  {
   "cell_type": "markdown",
   "metadata": {},
   "source": [
    "### Gemma 3 27B"
   ]
  },
  {
   "cell_type": "code",
   "execution_count": 8,
   "metadata": {},
   "outputs": [
    {
     "data": {
      "text/plain": [
       "Error Reason\n",
       "(1.3.1.1 Irrelevant/incorrect variable cited or used)    23\n",
       "(1.3.1.2 Relevant variable missing)                      10\n",
       "(1.3.2 Incorrect value of variable cited or used)         9\n",
       "(1.1.2 Value of a known variable calculated again)        5\n",
       "2.1 Unit Inconsistency)                                   2\n",
       "Name: count, dtype: int64"
      ]
     },
     "execution_count": 8,
     "metadata": {},
     "output_type": "execute_result"
    }
   ],
   "source": [
    "df_gemma['Error Reason'].value_counts()"
   ]
  },
  {
   "cell_type": "code",
   "execution_count": 4,
   "metadata": {},
   "outputs": [
    {
     "data": {
      "text/plain": [
       "Total Steps\n",
       "6     11\n",
       "4      9\n",
       "5      9\n",
       "8      7\n",
       "7      5\n",
       "11     3\n",
       "9      3\n",
       "10     1\n",
       "21     1\n",
       "Name: count, dtype: int64"
      ]
     },
     "execution_count": 4,
     "metadata": {},
     "output_type": "execute_result"
    }
   ],
   "source": [
    "df_gemma['Total Steps'].value_counts()"
   ]
  },
  {
   "cell_type": "markdown",
   "metadata": {},
   "source": [
    "## Self correction w/ error steps and error type"
   ]
  },
  {
   "cell_type": "markdown",
   "metadata": {},
   "source": [
    "### GPT 4o"
   ]
  },
  {
   "cell_type": "code",
   "execution_count": null,
   "metadata": {},
   "outputs": [],
   "source": [
    "gpt_corrected = pd.read_csv('../data/responses/gpt4o/gpt4o_selfcorrected.csv')"
   ]
  },
  {
   "cell_type": "code",
   "execution_count": 21,
   "metadata": {},
   "outputs": [
    {
     "data": {
      "text/plain": [
       "correct\n",
       "False    43\n",
       "True      7\n",
       "Name: count, dtype: int64"
      ]
     },
     "execution_count": 21,
     "metadata": {},
     "output_type": "execute_result"
    }
   ],
   "source": [
    "gpt_corrected['correct'].value_counts()"
   ]
  },
  {
   "cell_type": "code",
   "execution_count": 22,
   "metadata": {},
   "outputs": [
    {
     "data": {
      "text/plain": [
       "error_type\n",
       "(1.3.1.1 Irrelevant/incorrect variable cited or used)    19\n",
       "(1.1.2 Value of a known variable calculated again)       11\n",
       "(1.3.2 Incorrect value of variable cited or used)        10\n",
       "(1.3.1.2 Relevant variable missing)                       8\n",
       "2.1 Unit Inconsistency)                                   2\n",
       "Name: count, dtype: int64"
      ]
     },
     "execution_count": 22,
     "metadata": {},
     "output_type": "execute_result"
    }
   ],
   "source": [
    "gpt_corrected['error_type'].value_counts()"
   ]
  },
  {
   "cell_type": "code",
   "execution_count": 23,
   "metadata": {},
   "outputs": [
    {
     "data": {
      "text/plain": [
       "error_type\n",
       "(1.3.1.2 Relevant variable missing)                      3\n",
       "(1.3.1.1 Irrelevant/incorrect variable cited or used)    2\n",
       "(1.3.2 Incorrect value of variable cited or used)        2\n",
       "Name: count, dtype: int64"
      ]
     },
     "execution_count": 23,
     "metadata": {},
     "output_type": "execute_result"
    }
   ],
   "source": [
    "corrected_samples = gpt_corrected[gpt_corrected['correct'] == True]\n",
    "corrected_samples['error_type'].value_counts()"
   ]
  },
  {
   "cell_type": "code",
   "execution_count": 24,
   "metadata": {},
   "outputs": [
    {
     "data": {
      "text/plain": [
       "error_type\n",
       "(1.3.1.1 Irrelevant/incorrect variable cited or used)    17\n",
       "(1.1.2 Value of a known variable calculated again)       11\n",
       "(1.3.2 Incorrect value of variable cited or used)         8\n",
       "(1.3.1.2 Relevant variable missing)                       5\n",
       "2.1 Unit Inconsistency)                                   2\n",
       "Name: count, dtype: int64"
      ]
     },
     "execution_count": 24,
     "metadata": {},
     "output_type": "execute_result"
    }
   ],
   "source": [
    "incorrect_samples = gpt_corrected[gpt_corrected['correct'] == False]\n",
    "incorrect_samples['error_type'].value_counts()"
   ]
  },
  {
   "cell_type": "markdown",
   "metadata": {},
   "source": [
    "### Deepseek r1"
   ]
  },
  {
   "cell_type": "code",
   "execution_count": null,
   "metadata": {},
   "outputs": [
    {
     "data": {
      "text/plain": [
       "correct\n",
       "False    27\n",
       "True     23\n",
       "Name: count, dtype: int64"
      ]
     },
     "execution_count": 34,
     "metadata": {},
     "output_type": "execute_result"
    }
   ],
   "source": [
    "r1_corrected = pd.read_csv('../data/responses/r1_self_corrected.csv')\n",
    "r1_corrected['correct'].value_counts()"
   ]
  },
  {
   "cell_type": "code",
   "execution_count": 44,
   "metadata": {},
   "outputs": [
    {
     "data": {
      "text/plain": [
       "error_type\n",
       "(1.3.1.1 Irrelevant/incorrect variable cited or used)    24\n",
       "(1.1.2 Value of a known variable calculated again)       16\n",
       "(1.3.2 Incorrect value of variable cited or used)         7\n",
       "2.1 Unit Inconsistency)                                   2\n",
       "2.3 Calculation Error)                                    1\n",
       "Name: count, dtype: int64"
      ]
     },
     "execution_count": 44,
     "metadata": {},
     "output_type": "execute_result"
    }
   ],
   "source": [
    "r1_corrected['error_type'].value_counts()"
   ]
  },
  {
   "cell_type": "code",
   "execution_count": 39,
   "metadata": {},
   "outputs": [
    {
     "data": {
      "text/plain": [
       "error_type\n",
       "(1.3.1.1 Irrelevant/incorrect variable cited or used)    13\n",
       "(1.3.2 Incorrect value of variable cited or used)         7\n",
       "2.3 Calculation Error)                                    1\n",
       "(1.1.2 Value of a known variable calculated again)        1\n",
       "2.1 Unit Inconsistency)                                   1\n",
       "Name: count, dtype: int64"
      ]
     },
     "execution_count": 39,
     "metadata": {},
     "output_type": "execute_result"
    }
   ],
   "source": [
    "corrected_samples = r1_corrected[r1_corrected['correct'] == True]\n",
    "corrected_samples['error_type'].value_counts()"
   ]
  },
  {
   "cell_type": "code",
   "execution_count": 41,
   "metadata": {},
   "outputs": [
    {
     "data": {
      "text/plain": [
       "error_type\n",
       "(1.1.2 Value of a known variable calculated again)       15\n",
       "(1.3.1.1 Irrelevant/incorrect variable cited or used)    11\n",
       "2.1 Unit Inconsistency)                                   1\n",
       "Name: count, dtype: int64"
      ]
     },
     "execution_count": 41,
     "metadata": {},
     "output_type": "execute_result"
    }
   ],
   "source": [
    "incorrect_samples = r1_corrected[r1_corrected['correct'] == False]\n",
    "incorrect_samples['error_type'].value_counts()"
   ]
  },
  {
   "cell_type": "markdown",
   "metadata": {},
   "source": [
    "### Phi 4"
   ]
  },
  {
   "cell_type": "code",
   "execution_count": null,
   "metadata": {},
   "outputs": [
    {
     "data": {
      "text/plain": [
       "correct\n",
       "False    37\n",
       "True     12\n",
       "Name: count, dtype: int64"
      ]
     },
     "execution_count": 6,
     "metadata": {},
     "output_type": "execute_result"
    }
   ],
   "source": [
    "phi_corrected = pd.read_csv('../data/responses/phi4/phi_selfcorrected_errorloc.csv')\n",
    "phi_corrected['correct'].value_counts()"
   ]
  },
  {
   "cell_type": "code",
   "execution_count": 7,
   "metadata": {},
   "outputs": [
    {
     "data": {
      "text/plain": [
       "error_type\n",
       "(1.3.2 Incorrect value of variable cited or used)        18\n",
       "(1.3.1.1 Irrelevant/incorrect variable cited or used)    11\n",
       "(1.1.2 Value of a known variable calculated again)       11\n",
       "(1.3.1.2 Relevant variable missing)                       3\n",
       "2.3 Calculation Error)                                    3\n",
       "(3.3.2 Incorrect value)                                   2\n",
       "2.1 Unit Inconsistency)                                   1\n",
       "Name: count, dtype: int64"
      ]
     },
     "execution_count": 7,
     "metadata": {},
     "output_type": "execute_result"
    }
   ],
   "source": [
    "phi_corrected['error_type'].value_counts()"
   ]
  },
  {
   "cell_type": "code",
   "execution_count": 8,
   "metadata": {},
   "outputs": [
    {
     "data": {
      "text/plain": [
       "error_type\n",
       "(1.3.2 Incorrect value of variable cited or used)        5\n",
       "2.3 Calculation Error)                                   3\n",
       "(1.3.1.1 Irrelevant/incorrect variable cited or used)    2\n",
       "(1.3.1.2 Relevant variable missing)                      1\n",
       "(1.1.2 Value of a known variable calculated again)       1\n",
       "Name: count, dtype: int64"
      ]
     },
     "execution_count": 8,
     "metadata": {},
     "output_type": "execute_result"
    }
   ],
   "source": [
    "corrected_samples = phi_corrected[phi_corrected['correct'] == True]\n",
    "corrected_samples['error_type'].value_counts()"
   ]
  },
  {
   "cell_type": "code",
   "execution_count": 9,
   "metadata": {},
   "outputs": [
    {
     "data": {
      "text/plain": [
       "error_type\n",
       "(1.3.2 Incorrect value of variable cited or used)        13\n",
       "(1.1.2 Value of a known variable calculated again)       10\n",
       "(1.3.1.1 Irrelevant/incorrect variable cited or used)     9\n",
       "(3.3.2 Incorrect value)                                   2\n",
       "(1.3.1.2 Relevant variable missing)                       2\n",
       "2.1 Unit Inconsistency)                                   1\n",
       "Name: count, dtype: int64"
      ]
     },
     "execution_count": 9,
     "metadata": {},
     "output_type": "execute_result"
    }
   ],
   "source": [
    "corrected_samples = phi_corrected[phi_corrected['correct'] == False]\n",
    "corrected_samples['error_type'].value_counts()"
   ]
  },
  {
   "cell_type": "markdown",
   "metadata": {},
   "source": [
    "### Gemma 3 27B"
   ]
  },
  {
   "cell_type": "code",
   "execution_count": null,
   "metadata": {},
   "outputs": [
    {
     "data": {
      "text/plain": [
       "correct\n",
       "False    32\n",
       "True     17\n",
       "Name: count, dtype: int64"
      ]
     },
     "execution_count": 5,
     "metadata": {},
     "output_type": "execute_result"
    }
   ],
   "source": [
    "gemma_corrected = pd.read_csv('../data/responses/gemma3/gemma3-27b_selfcorrected_errorloc.csv')\n",
    "gemma_corrected['correct'].value_counts()"
   ]
  },
  {
   "cell_type": "code",
   "execution_count": 6,
   "metadata": {},
   "outputs": [
    {
     "data": {
      "text/plain": [
       "error_type\n",
       "(1.3.1.1 Irrelevant/incorrect variable cited or used)    9\n",
       "(1.3.1.2 Relevant variable missing)                      4\n",
       "(1.3.2 Incorrect value of variable cited or used)        3\n",
       "(1.1.2 Value of a known variable calculated again)       1\n",
       "Name: count, dtype: int64"
      ]
     },
     "execution_count": 6,
     "metadata": {},
     "output_type": "execute_result"
    }
   ],
   "source": [
    "corrected_samples = gemma_corrected[gemma_corrected['correct'] == True]\n",
    "corrected_samples['error_type'].value_counts()"
   ]
  },
  {
   "cell_type": "code",
   "execution_count": 7,
   "metadata": {},
   "outputs": [
    {
     "data": {
      "text/plain": [
       "error_type\n",
       "(1.3.1.1 Irrelevant/incorrect variable cited or used)    14\n",
       "(1.3.1.2 Relevant variable missing)                       6\n",
       "(1.3.2 Incorrect value of variable cited or used)         6\n",
       "(1.1.2 Value of a known variable calculated again)        4\n",
       "2.1 Unit Inconsistency)                                   2\n",
       "Name: count, dtype: int64"
      ]
     },
     "execution_count": 7,
     "metadata": {},
     "output_type": "execute_result"
    }
   ],
   "source": [
    "corrected_samples = gemma_corrected[gemma_corrected['correct'] == False]\n",
    "corrected_samples['error_type'].value_counts()"
   ]
  },
  {
   "cell_type": "markdown",
   "metadata": {},
   "source": [
    "## Self correction w/ general error location and error type"
   ]
  },
  {
   "cell_type": "code",
   "execution_count": null,
   "metadata": {},
   "outputs": [],
   "source": [
    "gpt_corrected = pd.read_csv('../data/responses/gpt4o_selfcorrected_genloc.csv')"
   ]
  },
  {
   "cell_type": "code",
   "execution_count": null,
   "metadata": {},
   "outputs": [
    {
     "data": {
      "text/plain": [
       "correct\n",
       "False    45\n",
       "True      5\n",
       "Name: count, dtype: int64"
      ]
     },
     "execution_count": 6,
     "metadata": {},
     "output_type": "execute_result"
    }
   ],
   "source": [
    "gpt_corrected['correct'].value_counts()"
   ]
  },
  {
   "cell_type": "code",
   "execution_count": 7,
   "metadata": {},
   "outputs": [
    {
     "data": {
      "text/plain": [
       "error_type\n",
       "(1.3.1.1 Irrelevant/incorrect variable cited or used)    3\n",
       "(1.3.2 Incorrect value of variable cited or used)        2\n",
       "Name: count, dtype: int64"
      ]
     },
     "execution_count": 7,
     "metadata": {},
     "output_type": "execute_result"
    }
   ],
   "source": [
    "corrected_samples = gpt_corrected[gpt_corrected['correct'] == True]\n",
    "corrected_samples['error_type'].value_counts()"
   ]
  },
  {
   "cell_type": "code",
   "execution_count": 8,
   "metadata": {},
   "outputs": [
    {
     "data": {
      "text/plain": [
       "error_type\n",
       "(1.3.1.1 Irrelevant/incorrect variable cited or used)    16\n",
       "(1.1.2 Value of a known variable calculated again)       11\n",
       "(1.3.2 Incorrect value of variable cited or used)         8\n",
       "(1.3.1.2 Relevant variable missing)                       8\n",
       "2.1 Unit Inconsistency)                                   2\n",
       "Name: count, dtype: int64"
      ]
     },
     "execution_count": 8,
     "metadata": {},
     "output_type": "execute_result"
    }
   ],
   "source": [
    "incorrect_samples = gpt_corrected[gpt_corrected['correct'] == False]\n",
    "incorrect_samples['error_type'].value_counts()"
   ]
  },
  {
   "cell_type": "markdown",
   "metadata": {},
   "source": [
    "### DeepSeek R1"
   ]
  },
  {
   "cell_type": "code",
   "execution_count": null,
   "metadata": {},
   "outputs": [
    {
     "data": {
      "text/plain": [
       "correct\n",
       "False    31\n",
       "True     19\n",
       "Name: count, dtype: int64"
      ]
     },
     "execution_count": 17,
     "metadata": {},
     "output_type": "execute_result"
    }
   ],
   "source": [
    "r1_corrected = pd.read_csv('../data/responses/r1_selfcorrected_genloc.csv')\n",
    "r1_corrected['correct'].value_counts()"
   ]
  },
  {
   "cell_type": "code",
   "execution_count": 18,
   "metadata": {},
   "outputs": [
    {
     "data": {
      "text/plain": [
       "error_type\n",
       "(1.3.1.1 Irrelevant/incorrect variable cited or used)    11\n",
       "(1.3.2 Incorrect value of variable cited or used)         6\n",
       "(1.1.2 Value of a known variable calculated again)        1\n",
       "2.1 Unit Inconsistency)                                   1\n",
       "Name: count, dtype: int64"
      ]
     },
     "execution_count": 18,
     "metadata": {},
     "output_type": "execute_result"
    }
   ],
   "source": [
    "corrected_samples = r1_corrected[r1_corrected['correct'] == True]\n",
    "corrected_samples['error_type'].value_counts()"
   ]
  },
  {
   "cell_type": "code",
   "execution_count": null,
   "metadata": {},
   "outputs": [
    {
     "data": {
      "text/plain": [
       "error_type\n",
       "(1.1.2 Value of a known variable calculated again)       15\n",
       "(1.3.1.1 Irrelevant/incorrect variable cited or used)    13\n",
       "(1.3.2 Incorrect value of variable cited or used)         1\n",
       "2.3 Calculation Error)                                    1\n",
       "2.1 Unit Inconsistency)                                   1\n",
       "Name: count, dtype: int64"
      ]
     },
     "execution_count": 19,
     "metadata": {},
     "output_type": "execute_result"
    }
   ],
   "source": [
    "incorrect_samples = r1_corrected[r1_corrected['correct'] == False]\n",
    "incorrect_samples['error_type'].value_counts()"
   ]
  },
  {
   "cell_type": "markdown",
   "metadata": {},
   "source": [
    "### Phi 4"
   ]
  },
  {
   "cell_type": "code",
   "execution_count": null,
   "metadata": {},
   "outputs": [
    {
     "data": {
      "text/plain": [
       "correct\n",
       "False    40\n",
       "True      9\n",
       "Name: count, dtype: int64"
      ]
     },
     "execution_count": 10,
     "metadata": {},
     "output_type": "execute_result"
    }
   ],
   "source": [
    "phi_corrected = pd.read_csv('../data/responses/phi4/phi4_selfcorrected_genloc.csv')\n",
    "phi_corrected['correct'].value_counts()"
   ]
  },
  {
   "cell_type": "code",
   "execution_count": 12,
   "metadata": {},
   "outputs": [
    {
     "data": {
      "text/plain": [
       "error_type\n",
       "(1.3.2 Incorrect value of variable cited or used)        4\n",
       "(1.3.1.1 Irrelevant/incorrect variable cited or used)    2\n",
       "2.3 Calculation Error)                                   2\n",
       "(1.1.2 Value of a known variable calculated again)       1\n",
       "Name: count, dtype: int64"
      ]
     },
     "execution_count": 12,
     "metadata": {},
     "output_type": "execute_result"
    }
   ],
   "source": [
    "corrected_samples = phi_corrected[phi_corrected['correct'] == True]\n",
    "corrected_samples['error_type'].value_counts()"
   ]
  },
  {
   "cell_type": "code",
   "execution_count": 13,
   "metadata": {},
   "outputs": [
    {
     "data": {
      "text/plain": [
       "error_type\n",
       "(1.3.2 Incorrect value of variable cited or used)        14\n",
       "(1.1.2 Value of a known variable calculated again)       10\n",
       "(1.3.1.1 Irrelevant/incorrect variable cited or used)     9\n",
       "(1.3.1.2 Relevant variable missing)                       3\n",
       "(3.3.2 Incorrect value)                                   2\n",
       "2.3 Calculation Error)                                    1\n",
       "2.1 Unit Inconsistency)                                   1\n",
       "Name: count, dtype: int64"
      ]
     },
     "execution_count": 13,
     "metadata": {},
     "output_type": "execute_result"
    }
   ],
   "source": [
    "corrected_samples = phi_corrected[phi_corrected['correct'] == False]\n",
    "corrected_samples['error_type'].value_counts()"
   ]
  },
  {
   "cell_type": "markdown",
   "metadata": {},
   "source": [
    "### Gemma 3 27B"
   ]
  },
  {
   "cell_type": "code",
   "execution_count": null,
   "metadata": {},
   "outputs": [
    {
     "data": {
      "text/plain": [
       "correct\n",
       "False    37\n",
       "True     12\n",
       "Name: count, dtype: int64"
      ]
     },
     "execution_count": 11,
     "metadata": {},
     "output_type": "execute_result"
    }
   ],
   "source": [
    "gemma_corrected = pd.read_csv('../data/responses/gemma3/gemma3-27b_selfcorrected_genloc.csv')\n",
    "gemma_corrected['correct'].value_counts()"
   ]
  },
  {
   "cell_type": "code",
   "execution_count": 12,
   "metadata": {},
   "outputs": [
    {
     "data": {
      "text/plain": [
       "error_type\n",
       "(1.3.1.1 Irrelevant/incorrect variable cited or used)    10\n",
       "(1.3.1.2 Relevant variable missing)                       1\n",
       "(1.3.2 Incorrect value of variable cited or used)         1\n",
       "Name: count, dtype: int64"
      ]
     },
     "execution_count": 12,
     "metadata": {},
     "output_type": "execute_result"
    }
   ],
   "source": [
    "corrected_samples = gemma_corrected[gemma_corrected['correct'] == True]\n",
    "corrected_samples['error_type'].value_counts()"
   ]
  },
  {
   "cell_type": "code",
   "execution_count": 13,
   "metadata": {},
   "outputs": [
    {
     "data": {
      "text/plain": [
       "error_type\n",
       "(1.3.1.1 Irrelevant/incorrect variable cited or used)    13\n",
       "(1.3.1.2 Relevant variable missing)                       9\n",
       "(1.3.2 Incorrect value of variable cited or used)         8\n",
       "(1.1.2 Value of a known variable calculated again)        5\n",
       "2.1 Unit Inconsistency)                                   2\n",
       "Name: count, dtype: int64"
      ]
     },
     "execution_count": 13,
     "metadata": {},
     "output_type": "execute_result"
    }
   ],
   "source": [
    "corrected_samples = gemma_corrected[gemma_corrected['correct'] == False]\n",
    "corrected_samples['error_type'].value_counts()"
   ]
  },
  {
   "cell_type": "markdown",
   "metadata": {},
   "source": [
    "### No error location with error type"
   ]
  },
  {
   "cell_type": "markdown",
   "metadata": {},
   "source": [
    "### GPT 4o"
   ]
  },
  {
   "cell_type": "code",
   "execution_count": null,
   "metadata": {},
   "outputs": [],
   "source": [
    "gpt_corrected = pd.read_csv('../data/responses/gpt4o_selfcorrected_noloc.csv')"
   ]
  },
  {
   "cell_type": "code",
   "execution_count": 10,
   "metadata": {},
   "outputs": [
    {
     "data": {
      "text/plain": [
       "correct\n",
       "False    43\n",
       "True      7\n",
       "Name: count, dtype: int64"
      ]
     },
     "execution_count": 10,
     "metadata": {},
     "output_type": "execute_result"
    }
   ],
   "source": [
    "gpt_corrected['correct'].value_counts()"
   ]
  },
  {
   "cell_type": "code",
   "execution_count": 11,
   "metadata": {},
   "outputs": [
    {
     "data": {
      "text/plain": [
       "error_type\n",
       "(1.3.1.1 Irrelevant/incorrect variable cited or used)    3\n",
       "(1.3.1.2 Relevant variable missing)                      3\n",
       "(1.3.2 Incorrect value of variable cited or used)        1\n",
       "Name: count, dtype: int64"
      ]
     },
     "execution_count": 11,
     "metadata": {},
     "output_type": "execute_result"
    }
   ],
   "source": [
    "corrected_samples = gpt_corrected[gpt_corrected['correct'] == True]\n",
    "corrected_samples['error_type'].value_counts()"
   ]
  },
  {
   "cell_type": "code",
   "execution_count": 12,
   "metadata": {},
   "outputs": [
    {
     "data": {
      "text/plain": [
       "error_type\n",
       "(1.3.1.1 Irrelevant/incorrect variable cited or used)    16\n",
       "(1.1.2 Value of a known variable calculated again)       11\n",
       "(1.3.2 Incorrect value of variable cited or used)         9\n",
       "(1.3.1.2 Relevant variable missing)                       5\n",
       "2.1 Unit Inconsistency)                                   2\n",
       "Name: count, dtype: int64"
      ]
     },
     "execution_count": 12,
     "metadata": {},
     "output_type": "execute_result"
    }
   ],
   "source": [
    "incorrect_samples = gpt_corrected[gpt_corrected['correct'] == False]\n",
    "incorrect_samples['error_type'].value_counts()"
   ]
  },
  {
   "cell_type": "markdown",
   "metadata": {},
   "source": [
    "### Deepseek R1"
   ]
  },
  {
   "cell_type": "code",
   "execution_count": null,
   "metadata": {},
   "outputs": [
    {
     "data": {
      "text/plain": [
       "correct\n",
       "False    29\n",
       "True     21\n",
       "Name: count, dtype: int64"
      ]
     },
     "execution_count": 25,
     "metadata": {},
     "output_type": "execute_result"
    }
   ],
   "source": [
    "r1_corrected = pd.read_csv('../data/responses/r1_selfcorrected_noloc.csv')\n",
    "r1_corrected['correct'].value_counts()"
   ]
  },
  {
   "cell_type": "code",
   "execution_count": 29,
   "metadata": {},
   "outputs": [
    {
     "data": {
      "text/plain": [
       "error_type\n",
       "(1.3.1.1 Irrelevant/incorrect variable cited or used)    10\n",
       "(1.3.2 Incorrect value of variable cited or used)         7\n",
       "2.1 Unit Inconsistency)                                   2\n",
       "2.3 Calculation Error)                                    1\n",
       "(1.1.2 Value of a known variable calculated again)        1\n",
       "Name: count, dtype: int64"
      ]
     },
     "execution_count": 29,
     "metadata": {},
     "output_type": "execute_result"
    }
   ],
   "source": [
    "corrected_samples = r1_corrected[r1_corrected['correct'] == True]\n",
    "corrected_samples['error_type'].value_counts()"
   ]
  },
  {
   "cell_type": "code",
   "execution_count": 30,
   "metadata": {},
   "outputs": [
    {
     "data": {
      "text/plain": [
       "error_type\n",
       "(1.1.2 Value of a known variable calculated again)       15\n",
       "(1.3.1.1 Irrelevant/incorrect variable cited or used)    14\n",
       "Name: count, dtype: int64"
      ]
     },
     "execution_count": 30,
     "metadata": {},
     "output_type": "execute_result"
    }
   ],
   "source": [
    "corrected_samples = r1_corrected[r1_corrected['correct'] == False]\n",
    "corrected_samples['error_type'].value_counts()"
   ]
  },
  {
   "cell_type": "markdown",
   "metadata": {},
   "source": [
    "### Phi 4"
   ]
  },
  {
   "cell_type": "code",
   "execution_count": null,
   "metadata": {},
   "outputs": [
    {
     "data": {
      "text/plain": [
       "correct\n",
       "False    40\n",
       "True      9\n",
       "Name: count, dtype: int64"
      ]
     },
     "execution_count": 14,
     "metadata": {},
     "output_type": "execute_result"
    }
   ],
   "source": [
    "phi_corrected = pd.read_csv('../data/responses/phi4/phi4_selfcorrected_noloc.csv')\n",
    "phi_corrected['correct'].value_counts()"
   ]
  },
  {
   "cell_type": "code",
   "execution_count": 15,
   "metadata": {},
   "outputs": [
    {
     "data": {
      "text/plain": [
       "error_type\n",
       "(1.3.2 Incorrect value of variable cited or used)        3\n",
       "(1.3.1.1 Irrelevant/incorrect variable cited or used)    3\n",
       "2.3 Calculation Error)                                   2\n",
       "(1.1.2 Value of a known variable calculated again)       1\n",
       "Name: count, dtype: int64"
      ]
     },
     "execution_count": 15,
     "metadata": {},
     "output_type": "execute_result"
    }
   ],
   "source": [
    "corrected_samples = phi_corrected[phi_corrected['correct'] == True]\n",
    "corrected_samples['error_type'].value_counts()"
   ]
  },
  {
   "cell_type": "code",
   "execution_count": 16,
   "metadata": {},
   "outputs": [
    {
     "data": {
      "text/plain": [
       "error_type\n",
       "(1.3.2 Incorrect value of variable cited or used)        15\n",
       "(1.1.2 Value of a known variable calculated again)       10\n",
       "(1.3.1.1 Irrelevant/incorrect variable cited or used)     8\n",
       "(1.3.1.2 Relevant variable missing)                       3\n",
       "(3.3.2 Incorrect value)                                   2\n",
       "2.3 Calculation Error)                                    1\n",
       "2.1 Unit Inconsistency)                                   1\n",
       "Name: count, dtype: int64"
      ]
     },
     "execution_count": 16,
     "metadata": {},
     "output_type": "execute_result"
    }
   ],
   "source": [
    "corrected_samples = phi_corrected[phi_corrected['correct'] == False]\n",
    "corrected_samples['error_type'].value_counts()"
   ]
  },
  {
   "cell_type": "markdown",
   "metadata": {},
   "source": [
    "### Gemma 3 27B"
   ]
  },
  {
   "cell_type": "code",
   "execution_count": null,
   "metadata": {},
   "outputs": [
    {
     "data": {
      "text/plain": [
       "correct\n",
       "False    33\n",
       "True     16\n",
       "Name: count, dtype: int64"
      ]
     },
     "execution_count": 14,
     "metadata": {},
     "output_type": "execute_result"
    }
   ],
   "source": [
    "gemma_corrected = pd.read_csv('../data/responses/gemma3/gemma3_selfcorrected_noloc.csv')\n",
    "gemma_corrected['correct'].value_counts()"
   ]
  },
  {
   "cell_type": "code",
   "execution_count": 15,
   "metadata": {},
   "outputs": [
    {
     "data": {
      "text/plain": [
       "error_type\n",
       "(1.3.1.1 Irrelevant/incorrect variable cited or used)    13\n",
       "(1.3.1.2 Relevant variable missing)                       2\n",
       "(1.3.2 Incorrect value of variable cited or used)         1\n",
       "Name: count, dtype: int64"
      ]
     },
     "execution_count": 15,
     "metadata": {},
     "output_type": "execute_result"
    }
   ],
   "source": [
    "corrected_samples = gemma_corrected[gemma_corrected['correct'] == True]\n",
    "corrected_samples['error_type'].value_counts()"
   ]
  },
  {
   "cell_type": "code",
   "execution_count": 16,
   "metadata": {},
   "outputs": [
    {
     "data": {
      "text/plain": [
       "error_type\n",
       "(1.3.1.1 Irrelevant/incorrect variable cited or used)    10\n",
       "(1.3.1.2 Relevant variable missing)                       8\n",
       "(1.3.2 Incorrect value of variable cited or used)         8\n",
       "(1.1.2 Value of a known variable calculated again)        5\n",
       "2.1 Unit Inconsistency)                                   2\n",
       "Name: count, dtype: int64"
      ]
     },
     "execution_count": 16,
     "metadata": {},
     "output_type": "execute_result"
    }
   ],
   "source": [
    "corrected_samples = gemma_corrected[gemma_corrected['correct'] == False]\n",
    "corrected_samples['error_type'].value_counts()"
   ]
  },
  {
   "cell_type": "markdown",
   "metadata": {},
   "source": [
    "### Baseline - no error location and error type"
   ]
  },
  {
   "cell_type": "code",
   "execution_count": null,
   "metadata": {},
   "outputs": [],
   "source": [
    "gpt_corrected = pd.read_csv('../data/responses/gpt4o_selfcorrected_baseline.csv')"
   ]
  },
  {
   "cell_type": "code",
   "execution_count": 14,
   "metadata": {},
   "outputs": [
    {
     "data": {
      "text/plain": [
       "correct\n",
       "False    45\n",
       "True      5\n",
       "Name: count, dtype: int64"
      ]
     },
     "execution_count": 14,
     "metadata": {},
     "output_type": "execute_result"
    }
   ],
   "source": [
    "gpt_corrected['correct'].value_counts()"
   ]
  },
  {
   "cell_type": "code",
   "execution_count": 15,
   "metadata": {},
   "outputs": [
    {
     "data": {
      "text/plain": [
       "error_type\n",
       "(1.3.1.1 Irrelevant/incorrect variable cited or used)    3\n",
       "(1.3.1.2 Relevant variable missing)                      1\n",
       "(1.3.2 Incorrect value of variable cited or used)        1\n",
       "Name: count, dtype: int64"
      ]
     },
     "execution_count": 15,
     "metadata": {},
     "output_type": "execute_result"
    }
   ],
   "source": [
    "corrected_samples = gpt_corrected[gpt_corrected['correct'] == True]\n",
    "corrected_samples['error_type'].value_counts()"
   ]
  },
  {
   "cell_type": "code",
   "execution_count": 16,
   "metadata": {},
   "outputs": [
    {
     "data": {
      "text/plain": [
       "error_type\n",
       "(1.3.1.1 Irrelevant/incorrect variable cited or used)    16\n",
       "(1.1.2 Value of a known variable calculated again)       11\n",
       "(1.3.2 Incorrect value of variable cited or used)         9\n",
       "(1.3.1.2 Relevant variable missing)                       7\n",
       "2.1 Unit Inconsistency)                                   2\n",
       "Name: count, dtype: int64"
      ]
     },
     "execution_count": 16,
     "metadata": {},
     "output_type": "execute_result"
    }
   ],
   "source": [
    "incorrect_samples = gpt_corrected[gpt_corrected['correct'] == False]\n",
    "incorrect_samples['error_type'].value_counts()"
   ]
  },
  {
   "cell_type": "markdown",
   "metadata": {},
   "source": [
    "### Deepseek R1"
   ]
  },
  {
   "cell_type": "code",
   "execution_count": null,
   "metadata": {},
   "outputs": [
    {
     "data": {
      "text/plain": [
       "correct\n",
       "False    31\n",
       "True     19\n",
       "Name: count, dtype: int64"
      ]
     },
     "execution_count": 31,
     "metadata": {},
     "output_type": "execute_result"
    }
   ],
   "source": [
    "r1_corrected = pd.read_csv('../data/responses/r1_selfcorrected_baseline.csv')\n",
    "r1_corrected['correct'].value_counts()"
   ]
  },
  {
   "cell_type": "code",
   "execution_count": 32,
   "metadata": {},
   "outputs": [
    {
     "data": {
      "text/plain": [
       "error_type\n",
       "(1.3.1.1 Irrelevant/incorrect variable cited or used)    11\n",
       "(1.3.2 Incorrect value of variable cited or used)         7\n",
       "2.3 Calculation Error)                                    1\n",
       "Name: count, dtype: int64"
      ]
     },
     "execution_count": 32,
     "metadata": {},
     "output_type": "execute_result"
    }
   ],
   "source": [
    "corrected_samples = r1_corrected[r1_corrected['correct'] == True]\n",
    "corrected_samples['error_type'].value_counts()"
   ]
  },
  {
   "cell_type": "code",
   "execution_count": 33,
   "metadata": {},
   "outputs": [
    {
     "data": {
      "text/plain": [
       "error_type\n",
       "(1.1.2 Value of a known variable calculated again)       16\n",
       "(1.3.1.1 Irrelevant/incorrect variable cited or used)    13\n",
       "2.1 Unit Inconsistency)                                   2\n",
       "Name: count, dtype: int64"
      ]
     },
     "execution_count": 33,
     "metadata": {},
     "output_type": "execute_result"
    }
   ],
   "source": [
    "corrected_samples = r1_corrected[r1_corrected['correct'] == False]\n",
    "corrected_samples['error_type'].value_counts()"
   ]
  },
  {
   "cell_type": "markdown",
   "metadata": {},
   "source": [
    "### Phi 4"
   ]
  },
  {
   "cell_type": "code",
   "execution_count": null,
   "metadata": {},
   "outputs": [
    {
     "data": {
      "text/plain": [
       "correct\n",
       "False    40\n",
       "True      9\n",
       "Name: count, dtype: int64"
      ]
     },
     "execution_count": 17,
     "metadata": {},
     "output_type": "execute_result"
    }
   ],
   "source": [
    "phi_corrected = pd.read_csv('../data/responses/phi4/phi4_selfcorrected_baseline.csv')\n",
    "phi_corrected['correct'].value_counts()"
   ]
  },
  {
   "cell_type": "code",
   "execution_count": 18,
   "metadata": {},
   "outputs": [
    {
     "data": {
      "text/plain": [
       "error_type\n",
       "(1.3.2 Incorrect value of variable cited or used)        4\n",
       "2.3 Calculation Error)                                   3\n",
       "(1.1.2 Value of a known variable calculated again)       1\n",
       "(1.3.1.1 Irrelevant/incorrect variable cited or used)    1\n",
       "Name: count, dtype: int64"
      ]
     },
     "execution_count": 18,
     "metadata": {},
     "output_type": "execute_result"
    }
   ],
   "source": [
    "corrected_samples = phi_corrected[phi_corrected['correct'] == True]\n",
    "corrected_samples['error_type'].value_counts()"
   ]
  },
  {
   "cell_type": "code",
   "execution_count": 19,
   "metadata": {},
   "outputs": [
    {
     "data": {
      "text/plain": [
       "error_type\n",
       "(1.3.2 Incorrect value of variable cited or used)        14\n",
       "(1.3.1.1 Irrelevant/incorrect variable cited or used)    10\n",
       "(1.1.2 Value of a known variable calculated again)       10\n",
       "(1.3.1.2 Relevant variable missing)                       3\n",
       "(3.3.2 Incorrect value)                                   2\n",
       "2.1 Unit Inconsistency)                                   1\n",
       "Name: count, dtype: int64"
      ]
     },
     "execution_count": 19,
     "metadata": {},
     "output_type": "execute_result"
    }
   ],
   "source": [
    "corrected_samples = phi_corrected[phi_corrected['correct'] == False]\n",
    "corrected_samples['error_type'].value_counts()"
   ]
  },
  {
   "cell_type": "markdown",
   "metadata": {},
   "source": [
    "### Gemma 3 27B"
   ]
  },
  {
   "cell_type": "code",
   "execution_count": null,
   "metadata": {},
   "outputs": [
    {
     "data": {
      "text/plain": [
       "correct\n",
       "False    32\n",
       "True     17\n",
       "Name: count, dtype: int64"
      ]
     },
     "execution_count": 18,
     "metadata": {},
     "output_type": "execute_result"
    }
   ],
   "source": [
    "gemma_corrected = pd.read_csv('../data/responses/gemma3/gemma3_selfcorrected_baseline.csv')\n",
    "gemma_corrected['correct'].value_counts()"
   ]
  },
  {
   "cell_type": "code",
   "execution_count": 19,
   "metadata": {},
   "outputs": [
    {
     "data": {
      "text/plain": [
       "error_type\n",
       "(1.3.1.1 Irrelevant/incorrect variable cited or used)    15\n",
       "(1.3.1.2 Relevant variable missing)                       1\n",
       "(1.3.2 Incorrect value of variable cited or used)         1\n",
       "Name: count, dtype: int64"
      ]
     },
     "execution_count": 19,
     "metadata": {},
     "output_type": "execute_result"
    }
   ],
   "source": [
    "corrected_samples = gemma_corrected[gemma_corrected['correct'] == True]\n",
    "corrected_samples['error_type'].value_counts()"
   ]
  },
  {
   "cell_type": "code",
   "execution_count": 20,
   "metadata": {},
   "outputs": [
    {
     "data": {
      "text/plain": [
       "error_type\n",
       "(1.3.1.2 Relevant variable missing)                      9\n",
       "(1.3.2 Incorrect value of variable cited or used)        8\n",
       "(1.3.1.1 Irrelevant/incorrect variable cited or used)    8\n",
       "(1.1.2 Value of a known variable calculated again)       5\n",
       "2.1 Unit Inconsistency)                                  2\n",
       "Name: count, dtype: int64"
      ]
     },
     "execution_count": 20,
     "metadata": {},
     "output_type": "execute_result"
    }
   ],
   "source": [
    "corrected_samples = gemma_corrected[gemma_corrected['correct'] == False]\n",
    "corrected_samples['error_type'].value_counts()"
   ]
  },
  {
   "cell_type": "code",
   "execution_count": null,
   "metadata": {},
   "outputs": [],
   "source": []
  }
 ],
 "metadata": {
  "kernelspec": {
   "display_name": "NLG_project",
   "language": "python",
   "name": "python3"
  },
  "language_info": {
   "codemirror_mode": {
    "name": "ipython",
    "version": 3
   },
   "file_extension": ".py",
   "mimetype": "text/x-python",
   "name": "python",
   "nbconvert_exporter": "python",
   "pygments_lexer": "ipython3",
   "version": "3.11.11"
  }
 },
 "nbformat": 4,
 "nbformat_minor": 2
}
