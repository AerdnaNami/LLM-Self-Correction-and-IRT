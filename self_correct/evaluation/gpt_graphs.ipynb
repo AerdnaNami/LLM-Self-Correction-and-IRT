{
 "cells": [
  {
   "cell_type": "code",
   "execution_count": 8,
   "id": "2591a787",
   "metadata": {},
   "outputs": [],
   "source": [
    "import pandas as pd"
   ]
  },
  {
   "cell_type": "code",
   "execution_count": 9,
   "id": "e8d082d2",
   "metadata": {},
   "outputs": [],
   "source": [
    "methods = (\"Error location with Type\", \"General Error location with Type\", \n",
    "           \"No error location with Type\", \"No error location and Type\")"
   ]
  },
  {
   "cell_type": "markdown",
   "id": "fb79891a",
   "metadata": {},
   "source": [
    "## Self correction w/ error steps and error type"
   ]
  },
  {
   "cell_type": "code",
   "execution_count": null,
   "id": "b08e2d62",
   "metadata": {},
   "outputs": [],
   "source": [
    "gpt_selfcorrected = pd.read_csv('../data/responses/gpt4o/gpt4o_selfcorrected.csv')"
   ]
  },
  {
   "cell_type": "code",
   "execution_count": 11,
   "id": "8d1f0cd9",
   "metadata": {},
   "outputs": [
    {
     "data": {
      "text/plain": [
       "error_type\n",
       "(1.3.1.1 Irrelevant/incorrect variable cited or used)    19\n",
       "(1.1.2 Value of a known variable calculated again)       11\n",
       "(1.3.2 Incorrect value of variable cited or used)        10\n",
       "(1.3.1.2 Relevant variable missing)                       8\n",
       "2.1 Unit Inconsistency)                                   2\n",
       "Name: count, dtype: int64"
      ]
     },
     "execution_count": 11,
     "metadata": {},
     "output_type": "execute_result"
    }
   ],
   "source": [
    "gpt_selfcorrected['error_type'].value_counts()"
   ]
  },
  {
   "cell_type": "code",
   "execution_count": 12,
   "id": "427b93f0",
   "metadata": {},
   "outputs": [
    {
     "data": {
      "text/plain": [
       "error_type\n",
       "(1.3.1.2 Relevant variable missing)                      3\n",
       "(1.3.1.1 Irrelevant/incorrect variable cited or used)    2\n",
       "(1.3.2 Incorrect value of variable cited or used)        2\n",
       "Name: count, dtype: int64"
      ]
     },
     "execution_count": 12,
     "metadata": {},
     "output_type": "execute_result"
    }
   ],
   "source": [
    "corrected_samples_full = gpt_selfcorrected[gpt_selfcorrected['correct'] == True]\n",
    "dist_full = corrected_samples_full['error_type'].value_counts()\n",
    "dist_full"
   ]
  },
  {
   "cell_type": "markdown",
   "id": "c5027e7d",
   "metadata": {},
   "source": [
    "## Self correction w/ general error location and error type"
   ]
  },
  {
   "cell_type": "code",
   "execution_count": null,
   "id": "78e91b0a",
   "metadata": {},
   "outputs": [],
   "source": [
    "gpt_gencorrected = pd.read_csv('../data/responses/gpt4o/gpt4o_selfcorrected_genloc.csv')"
   ]
  },
  {
   "cell_type": "code",
   "execution_count": 14,
   "id": "be80f532",
   "metadata": {},
   "outputs": [
    {
     "data": {
      "text/plain": [
       "error_type\n",
       "(1.3.1.1 Irrelevant/incorrect variable cited or used)    3\n",
       "(1.3.2 Incorrect value of variable cited or used)        2\n",
       "Name: count, dtype: int64"
      ]
     },
     "execution_count": 14,
     "metadata": {},
     "output_type": "execute_result"
    }
   ],
   "source": [
    "corrected_samples_genloc = gpt_gencorrected[gpt_gencorrected['correct'] == True]\n",
    "dist_genloc = corrected_samples_genloc['error_type'].value_counts()\n",
    "dist_genloc"
   ]
  },
  {
   "cell_type": "markdown",
   "id": "d10c81f4",
   "metadata": {},
   "source": [
    "### No error location with error type"
   ]
  },
  {
   "cell_type": "code",
   "execution_count": null,
   "id": "b58bdeed",
   "metadata": {},
   "outputs": [],
   "source": [
    "gpt_noloc_corrected = pd.read_csv('../data/responses/gpt4o/gpt4o_selfcorrected_noloc.csv')"
   ]
  },
  {
   "cell_type": "code",
   "execution_count": 16,
   "id": "f8a0e204",
   "metadata": {},
   "outputs": [
    {
     "data": {
      "text/plain": [
       "error_type\n",
       "(1.3.1.1 Irrelevant/incorrect variable cited or used)    3\n",
       "(1.3.1.2 Relevant variable missing)                      3\n",
       "(1.3.2 Incorrect value of variable cited or used)        1\n",
       "Name: count, dtype: int64"
      ]
     },
     "execution_count": 16,
     "metadata": {},
     "output_type": "execute_result"
    }
   ],
   "source": [
    "corrected_samples_noloc = gpt_noloc_corrected[gpt_noloc_corrected['correct'] == True]\n",
    "dist_noloc = corrected_samples_noloc['error_type'].value_counts()\n",
    "dist_noloc"
   ]
  },
  {
   "cell_type": "markdown",
   "id": "2d9ff85e",
   "metadata": {},
   "source": [
    "### Baseline - no error location and error type"
   ]
  },
  {
   "cell_type": "code",
   "execution_count": null,
   "id": "e19f9d06",
   "metadata": {},
   "outputs": [],
   "source": [
    "gpt_corrected_baseline = pd.read_csv('../data/responses/gpt4o/gpt4o_selfcorrected_baseline.csv')"
   ]
  },
  {
   "cell_type": "code",
   "execution_count": 18,
   "id": "efb3c95d",
   "metadata": {},
   "outputs": [
    {
     "data": {
      "text/plain": [
       "error_type\n",
       "(1.3.1.1 Irrelevant/incorrect variable cited or used)    3\n",
       "(1.3.1.2 Relevant variable missing)                      1\n",
       "(1.3.2 Incorrect value of variable cited or used)        1\n",
       "Name: count, dtype: int64"
      ]
     },
     "execution_count": 18,
     "metadata": {},
     "output_type": "execute_result"
    }
   ],
   "source": [
    "corrected_samples_baseline = gpt_corrected_baseline[gpt_corrected_baseline['correct'] == True]\n",
    "dist_baseline = corrected_samples_baseline['error_type'].value_counts()\n",
    "dist_baseline"
   ]
  },
  {
   "cell_type": "markdown",
   "id": "6e728014",
   "metadata": {},
   "source": [
    "### Graphs"
   ]
  },
  {
   "cell_type": "code",
   "execution_count": 19,
   "id": "4b139855",
   "metadata": {},
   "outputs": [],
   "source": [
    "gpt_results_full = {\n",
    "    'Irrelevant/incorrect variable cited or used': dist_full.loc['(1.3.1.1 Irrelevant/incorrect variable cited or used)'],\n",
    "    'Incorrect value of variable cited or used': dist_full.loc['(1.3.2 Incorrect value of variable cited or used)'],\n",
    "    'Relevant variable missing, Intermediate values': dist_full['(1.3.1.2 Relevant variable missing)'],\n",
    "    'Value of a known variable calculated again': 0,\n",
    "    'Unit Inconsistency': 0,\n",
    "    'Calculation Error': 0,\n",
    "    'Incorrect Value': 0\n",
    "}"
   ]
  },
  {
   "cell_type": "code",
   "execution_count": 20,
   "id": "2f03deb9",
   "metadata": {},
   "outputs": [
    {
     "data": {
      "text/plain": [
       "{'Irrelevant/incorrect variable cited or used': np.int64(3),\n",
       " 'Incorrect value of variable cited or used': np.int64(2),\n",
       " 'Relevant variable missing, Intermediate values': 0,\n",
       " 'Value of a known variable calculated again': 0,\n",
       " 'Unit Inconsistency': 0,\n",
       " 'Calculation Error': 0,\n",
       " 'Incorrect Value': 0}"
      ]
     },
     "execution_count": 20,
     "metadata": {},
     "output_type": "execute_result"
    }
   ],
   "source": [
    "gpt_results_genloc = {\n",
    "    'Irrelevant/incorrect variable cited or used': dist_genloc.loc['(1.3.1.1 Irrelevant/incorrect variable cited or used)'],\n",
    "    'Incorrect value of variable cited or used': dist_genloc.loc['(1.3.2 Incorrect value of variable cited or used)'],\n",
    "    'Relevant variable missing, Intermediate values': 0,\n",
    "    'Value of a known variable calculated again': 0,\n",
    "    'Unit Inconsistency': 0,\n",
    "    'Calculation Error': 0,\n",
    "    'Incorrect Value': 0\n",
    "}\n",
    "gpt_results_genloc"
   ]
  },
  {
   "cell_type": "code",
   "execution_count": 21,
   "id": "15a408c1",
   "metadata": {},
   "outputs": [
    {
     "data": {
      "text/plain": [
       "{'Irrelevant/incorrect variable cited or used': np.int64(3),\n",
       " 'Incorrect value of variable cited or used': np.int64(1),\n",
       " 'Relevant variable missing, Intermediate values': np.int64(3),\n",
       " 'Value of a known variable calculated again': 0,\n",
       " 'Unit Inconsistency': 0,\n",
       " 'Calculation Error': 0,\n",
       " 'Incorrect Value': 0}"
      ]
     },
     "execution_count": 21,
     "metadata": {},
     "output_type": "execute_result"
    }
   ],
   "source": [
    "gpt_results_noloc = {\n",
    "    'Irrelevant/incorrect variable cited or used': dist_noloc.loc['(1.3.1.1 Irrelevant/incorrect variable cited or used)'],\n",
    "    'Incorrect value of variable cited or used': dist_noloc.loc['(1.3.2 Incorrect value of variable cited or used)'],\n",
    "    'Relevant variable missing, Intermediate values': dist_noloc['(1.3.1.2 Relevant variable missing)'],\n",
    "    'Value of a known variable calculated again': 0,\n",
    "    'Unit Inconsistency': 0,\n",
    "    'Calculation Error': 0,\n",
    "    'Incorrect Value': 0\n",
    "}\n",
    "gpt_results_noloc"
   ]
  },
  {
   "cell_type": "code",
   "execution_count": 22,
   "id": "1eb86fc6",
   "metadata": {},
   "outputs": [
    {
     "data": {
      "text/plain": [
       "{'Irrelevant/incorrect variable cited or used': np.int64(3),\n",
       " 'Incorrect value of variable cited or used': np.int64(1),\n",
       " 'Relevant variable missing, Intermediate values': np.int64(1),\n",
       " 'Value of a known variable calculated again': 0,\n",
       " 'Unit Inconsistency': 0,\n",
       " 'Calculation Error': 0,\n",
       " 'Incorrect Value': 0}"
      ]
     },
     "execution_count": 22,
     "metadata": {},
     "output_type": "execute_result"
    }
   ],
   "source": [
    "gpt_results_baseline = {\n",
    "    'Irrelevant/incorrect variable cited or used': dist_baseline.loc['(1.3.1.1 Irrelevant/incorrect variable cited or used)'],\n",
    "    'Incorrect value of variable cited or used': dist_baseline.loc['(1.3.2 Incorrect value of variable cited or used)'],\n",
    "    'Relevant variable missing, Intermediate values': dist_baseline['(1.3.1.2 Relevant variable missing)'],\n",
    "    'Value of a known variable calculated again': 0,\n",
    "    'Unit Inconsistency': 0,\n",
    "    'Calculation Error': 0,\n",
    "    'Incorrect Value': 0\n",
    "}\n",
    "gpt_results_baseline"
   ]
  },
  {
   "cell_type": "code",
   "execution_count": 23,
   "id": "8f208cf4",
   "metadata": {},
   "outputs": [
    {
     "data": {
      "text/plain": [
       "{'Error 1.1': [np.int64(2), np.int64(3), np.int64(3), np.int64(3)],\n",
       " 'Error 1.2': [np.int64(2), np.int64(2), np.int64(1), np.int64(1)],\n",
       " 'Error 1.3': [np.int64(3), 0, np.int64(3), np.int64(1)],\n",
       " 'Error 2': [0, 0, 0, 0],\n",
       " 'Error 3.1': [0, 0, 0, 0],\n",
       " 'Error 3.2': [0, 0, 0, 0],\n",
       " 'Error 4': [0, 0, 0, 0]}"
      ]
     },
     "execution_count": 23,
     "metadata": {},
     "output_type": "execute_result"
    }
   ],
   "source": [
    "gpt_results_all = {\n",
    "    'Error 1.1': [gpt_results_full['Irrelevant/incorrect variable cited or used'], \n",
    "                                                    gpt_results_genloc['Irrelevant/incorrect variable cited or used'], \n",
    "                                                    gpt_results_noloc['Irrelevant/incorrect variable cited or used'], \n",
    "                                                    gpt_results_baseline['Irrelevant/incorrect variable cited or used']],\n",
    "    'Error 1.2': [gpt_results_full['Incorrect value of variable cited or used'], \n",
    "                                                    gpt_results_genloc['Incorrect value of variable cited or used'], \n",
    "                                                    gpt_results_noloc['Incorrect value of variable cited or used'], \n",
    "                                                    gpt_results_baseline['Incorrect value of variable cited or used']],\n",
    "    'Error 1.3': [gpt_results_full['Relevant variable missing, Intermediate values'], \n",
    "                                                    gpt_results_genloc['Relevant variable missing, Intermediate values'], \n",
    "                                                    gpt_results_noloc['Relevant variable missing, Intermediate values'], \n",
    "                                                    gpt_results_baseline['Relevant variable missing, Intermediate values']],\n",
    "    'Error 2': [gpt_results_full['Value of a known variable calculated again'], \n",
    "                                                    gpt_results_genloc['Value of a known variable calculated again'], \n",
    "                                                    gpt_results_noloc['Value of a known variable calculated again'], \n",
    "                                                    gpt_results_baseline['Value of a known variable calculated again']],\n",
    "    'Error 3.1': [gpt_results_full['Unit Inconsistency'], \n",
    "                                                    gpt_results_genloc['Unit Inconsistency'], \n",
    "                                                    gpt_results_noloc['Unit Inconsistency'], \n",
    "                                                    gpt_results_baseline['Unit Inconsistency']],\n",
    "    'Error 3.2': [gpt_results_full['Calculation Error'], \n",
    "                                                    gpt_results_genloc['Calculation Error'], \n",
    "                                                    gpt_results_noloc['Calculation Error'], \n",
    "                                                    gpt_results_baseline['Calculation Error']],\n",
    "    'Error 4': [gpt_results_full['Incorrect Value'], \n",
    "                        gpt_results_genloc['Incorrect Value'], \n",
    "                        gpt_results_noloc['Incorrect Value'], \n",
    "                        gpt_results_baseline['Incorrect Value']]\n",
    "}\n",
    "\n",
    "gpt_results_all"
   ]
  },
  {
   "cell_type": "code",
   "execution_count": null,
   "id": "17a63cdc",
   "metadata": {},
   "outputs": [
    {
     "data": {
      "image/png": "[encoded data removed]",
      "text/plain": [
       "<Figure size 1000x600 with 1 Axes>"
      ]
     },
     "metadata": {},
     "output_type": "display_data"
    }
   ],
   "source": [
    "import numpy as np\n",
    "import matplotlib.pyplot as plt\n",
    "\n",
    "bar_width = 0.18        \n",
    "group_gap = 1.0         \n",
    "num_attributes = len(gpt_results_all)\n",
    "\n",
    "x_base = np.arange(len(methods)) * (num_attributes * bar_width + group_gap)\n",
    "\n",
    "fig, ax = plt.subplots(figsize=(10, 6), layout='constrained') \n",
    "\n",
    "multiplier = 0\n",
    "for attribute, measurement in gpt_results_all.items():\n",
    "    offset = bar_width * multiplier\n",
    "    rects = ax.bar(x_base + offset, measurement, bar_width, label=attribute)\n",
    "    ax.bar_label(rects, padding=3, fontsize=12) \n",
    "    multiplier += 1 \n",
    "\n",
    "tick_positions = x_base + (bar_width * num_attributes) / 2 - bar_width / 2\n",
    "\n",
    "ax.set_ylabel('# of samples')\n",
    "ax.set_title('Prompting Methods Comparison')\n",
    "ax.set_xticks(tick_positions, methods) \n",
    "ax.legend(loc='upper left', ncols=4, fontsize=12)\n",
    "ax.set_ylim(0, 18) \n",
    "\n",
    "ax.yaxis.grid(True, linestyle='--', alpha=0.7)\n",
    "\n",
    "output_filename = 'graphs/gpt_4o_comparisons.png'\n",
    "plt.savefig(output_filename, dpi=300, bbox_inches='tight')\n",
    "plt.show()"
   ]
  },
  {
   "cell_type": "code",
   "execution_count": null,
   "id": "b1c89bc3",
   "metadata": {},
   "outputs": [],
   "source": []
  }
 ],
 "metadata": {
  "kernelspec": {
   "display_name": "NLG_project",
   "language": "python",
   "name": "python3"
  },
  "language_info": {
   "codemirror_mode": {
    "name": "ipython",
    "version": 3
   },
   "file_extension": ".py",
   "mimetype": "text/x-python",
   "name": "python",
   "nbconvert_exporter": "python",
   "pygments_lexer": "ipython3",
   "version": "3.11.11"
  }
 },
 "nbformat": 4,
 "nbformat_minor": 5
}
