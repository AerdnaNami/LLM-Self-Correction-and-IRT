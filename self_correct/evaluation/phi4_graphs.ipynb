{
 "cells": [
  {
   "cell_type": "code",
   "execution_count": 1,
   "id": "2591a787",
   "metadata": {},
   "outputs": [],
   "source": [
    "import pandas as pd"
   ]
  },
  {
   "cell_type": "markdown",
   "id": "fb79891a",
   "metadata": {},
   "source": [
    "## Self correction w/ error steps and error type"
   ]
  },
  {
   "cell_type": "code",
   "execution_count": null,
   "id": "4e139f9e",
   "metadata": {},
   "outputs": [
    {
     "data": {
      "text/plain": [
       "correct\n",
       "False    37\n",
       "True     12\n",
       "Name: count, dtype: int64"
      ]
     },
     "execution_count": 2,
     "metadata": {},
     "output_type": "execute_result"
    }
   ],
   "source": [
    "phi_corrected = pd.read_csv('../data/responses/phi4/phi_selfcorrected_errorloc.csv')\n",
    "phi_corrected['correct'].value_counts()"
   ]
  },
  {
   "cell_type": "code",
   "execution_count": 3,
   "id": "2d0c63c2",
   "metadata": {},
   "outputs": [
    {
     "data": {
      "text/plain": [
       "error_type\n",
       "(1.3.2 Incorrect value of variable cited or used)        5\n",
       "2.3 Calculation Error)                                   3\n",
       "(1.3.1.1 Irrelevant/incorrect variable cited or used)    2\n",
       "(1.3.1.2 Relevant variable missing)                      1\n",
       "(1.1.2 Value of a known variable calculated again)       1\n",
       "Name: count, dtype: int64"
      ]
     },
     "execution_count": 3,
     "metadata": {},
     "output_type": "execute_result"
    }
   ],
   "source": [
    "corrected_samples = phi_corrected[phi_corrected['correct'] == True]\n",
    "dist_full = corrected_samples['error_type'].value_counts()\n",
    "dist_full"
   ]
  },
  {
   "cell_type": "markdown",
   "id": "c5027e7d",
   "metadata": {},
   "source": [
    "## Self correction w/ general error location and error type"
   ]
  },
  {
   "cell_type": "code",
   "execution_count": null,
   "id": "55139fa4",
   "metadata": {},
   "outputs": [
    {
     "data": {
      "text/plain": [
       "correct\n",
       "False    40\n",
       "True      9\n",
       "Name: count, dtype: int64"
      ]
     },
     "execution_count": 4,
     "metadata": {},
     "output_type": "execute_result"
    }
   ],
   "source": [
    "phi_corrected = pd.read_csv('../data/responses/phi4/phi4_selfcorrected_genloc.csv')\n",
    "phi_corrected['correct'].value_counts()"
   ]
  },
  {
   "cell_type": "code",
   "execution_count": 5,
   "id": "9c4ac35d",
   "metadata": {},
   "outputs": [
    {
     "data": {
      "text/plain": [
       "error_type\n",
       "(1.3.2 Incorrect value of variable cited or used)        4\n",
       "(1.3.1.1 Irrelevant/incorrect variable cited or used)    2\n",
       "2.3 Calculation Error)                                   2\n",
       "(1.1.2 Value of a known variable calculated again)       1\n",
       "Name: count, dtype: int64"
      ]
     },
     "execution_count": 5,
     "metadata": {},
     "output_type": "execute_result"
    }
   ],
   "source": [
    "corrected_samples = phi_corrected[phi_corrected['correct'] == True]\n",
    "dist_genloc = corrected_samples['error_type'].value_counts()\n",
    "dist_genloc"
   ]
  },
  {
   "cell_type": "markdown",
   "id": "d10c81f4",
   "metadata": {},
   "source": [
    "### No error location with error type"
   ]
  },
  {
   "cell_type": "code",
   "execution_count": null,
   "id": "b1c7eed2",
   "metadata": {},
   "outputs": [
    {
     "data": {
      "text/plain": [
       "correct\n",
       "False    40\n",
       "True      9\n",
       "Name: count, dtype: int64"
      ]
     },
     "execution_count": 6,
     "metadata": {},
     "output_type": "execute_result"
    }
   ],
   "source": [
    "phi_corrected = pd.read_csv('../data/responses/phi4/phi4_selfcorrected_noloc.csv')\n",
    "phi_corrected['correct'].value_counts()"
   ]
  },
  {
   "cell_type": "code",
   "execution_count": 7,
   "id": "7b01f7c3",
   "metadata": {},
   "outputs": [
    {
     "data": {
      "text/plain": [
       "error_type\n",
       "(1.3.2 Incorrect value of variable cited or used)        3\n",
       "(1.3.1.1 Irrelevant/incorrect variable cited or used)    3\n",
       "2.3 Calculation Error)                                   2\n",
       "(1.1.2 Value of a known variable calculated again)       1\n",
       "Name: count, dtype: int64"
      ]
     },
     "execution_count": 7,
     "metadata": {},
     "output_type": "execute_result"
    }
   ],
   "source": [
    "corrected_samples = phi_corrected[phi_corrected['correct'] == True]\n",
    "dist_noloc = corrected_samples['error_type'].value_counts()\n",
    "dist_noloc"
   ]
  },
  {
   "cell_type": "markdown",
   "id": "2d9ff85e",
   "metadata": {},
   "source": [
    "### Baseline - no error location and error type"
   ]
  },
  {
   "cell_type": "code",
   "execution_count": null,
   "id": "0b34f0fe",
   "metadata": {},
   "outputs": [
    {
     "data": {
      "text/plain": [
       "correct\n",
       "False    40\n",
       "True      9\n",
       "Name: count, dtype: int64"
      ]
     },
     "execution_count": 8,
     "metadata": {},
     "output_type": "execute_result"
    }
   ],
   "source": [
    "phi_corrected = pd.read_csv('../data/responses/phi4/phi4_selfcorrected_baseline.csv')\n",
    "phi_corrected['correct'].value_counts()"
   ]
  },
  {
   "cell_type": "code",
   "execution_count": 9,
   "id": "c313e6e9",
   "metadata": {},
   "outputs": [
    {
     "data": {
      "text/plain": [
       "error_type\n",
       "(1.3.2 Incorrect value of variable cited or used)        4\n",
       "2.3 Calculation Error)                                   3\n",
       "(1.1.2 Value of a known variable calculated again)       1\n",
       "(1.3.1.1 Irrelevant/incorrect variable cited or used)    1\n",
       "Name: count, dtype: int64"
      ]
     },
     "execution_count": 9,
     "metadata": {},
     "output_type": "execute_result"
    }
   ],
   "source": [
    "corrected_samples = phi_corrected[phi_corrected['correct'] == True]\n",
    "dist_baseline = corrected_samples['error_type'].value_counts()\n",
    "dist_baseline"
   ]
  },
  {
   "cell_type": "markdown",
   "id": "6e728014",
   "metadata": {},
   "source": [
    "### Graphs"
   ]
  },
  {
   "cell_type": "code",
   "execution_count": 10,
   "id": "4b139855",
   "metadata": {},
   "outputs": [
    {
     "data": {
      "text/plain": [
       "{'Irrelevant/incorrect variable cited or used': np.int64(2),\n",
       " 'Incorrect value of variable cited or used': np.int64(5),\n",
       " 'Relevant variable missing, Intermediate values': np.int64(1),\n",
       " 'Value of a known variable calculated again': np.int64(1),\n",
       " 'Unit Inconsistency': 0,\n",
       " 'Calculation Error': np.int64(3),\n",
       " 'Incorrect Value': 0}"
      ]
     },
     "execution_count": 10,
     "metadata": {},
     "output_type": "execute_result"
    }
   ],
   "source": [
    "results_full = {\n",
    "    'Irrelevant/incorrect variable cited or used': dist_full.get('(1.3.1.1 Irrelevant/incorrect variable cited or used)', 0),\n",
    "    'Incorrect value of variable cited or used': dist_full.get('(1.3.2 Incorrect value of variable cited or used)', 0),\n",
    "    'Relevant variable missing, Intermediate values': dist_full.get('(1.3.1.2 Relevant variable missing)', 0),\n",
    "    'Value of a known variable calculated again': dist_full.get('(1.1.2 Value of a known variable calculated again)', 0),\n",
    "    'Unit Inconsistency': dist_full.get('2.1 Unit Inconsistency)', 0),\n",
    "    'Calculation Error': dist_full.get('2.3 Calculation Error)', 0),\n",
    "    'Incorrect Value': dist_full.get('(3.3.2 Incorrect value)', 0)\n",
    "}\n",
    "results_full"
   ]
  },
  {
   "cell_type": "code",
   "execution_count": 11,
   "id": "2f03deb9",
   "metadata": {},
   "outputs": [
    {
     "data": {
      "text/plain": [
       "{'Irrelevant/incorrect variable cited or used': np.int64(2),\n",
       " 'Incorrect value of variable cited or used': np.int64(4),\n",
       " 'Relevant variable missing, Intermediate values': 0,\n",
       " 'Value of a known variable calculated again': np.int64(1),\n",
       " 'Unit Inconsistency': 0,\n",
       " 'Calculation Error': np.int64(2),\n",
       " 'Incorrect Value': 0}"
      ]
     },
     "execution_count": 11,
     "metadata": {},
     "output_type": "execute_result"
    }
   ],
   "source": [
    "results_genloc = {\n",
    "    'Irrelevant/incorrect variable cited or used': dist_genloc.get('(1.3.1.1 Irrelevant/incorrect variable cited or used)', 0),\n",
    "    'Incorrect value of variable cited or used': dist_genloc.get('(1.3.2 Incorrect value of variable cited or used)', 0),\n",
    "    'Relevant variable missing, Intermediate values': dist_genloc.get('(1.3.1.2 Relevant variable missing)', 0),\n",
    "    'Value of a known variable calculated again': dist_genloc.get('(1.1.2 Value of a known variable calculated again)', 0),\n",
    "    'Unit Inconsistency': dist_genloc.get('2.1 Unit Inconsistency)', 0),\n",
    "    'Calculation Error': dist_genloc.get('2.3 Calculation Error)', 0),\n",
    "    'Incorrect Value': dist_genloc.get('(3.3.2 Incorrect value)', 0)\n",
    "}\n",
    "results_genloc"
   ]
  },
  {
   "cell_type": "code",
   "execution_count": 12,
   "id": "15a408c1",
   "metadata": {},
   "outputs": [
    {
     "data": {
      "text/plain": [
       "{'Irrelevant/incorrect variable cited or used': np.int64(3),\n",
       " 'Incorrect value of variable cited or used': np.int64(3),\n",
       " 'Relevant variable missing, Intermediate values': 0,\n",
       " 'Value of a known variable calculated again': np.int64(1),\n",
       " 'Unit Inconsistency': 0,\n",
       " 'Calculation Error': np.int64(2),\n",
       " 'Incorrect Value': 0}"
      ]
     },
     "execution_count": 12,
     "metadata": {},
     "output_type": "execute_result"
    }
   ],
   "source": [
    "results_noloc = {\n",
    "    'Irrelevant/incorrect variable cited or used': dist_noloc.get('(1.3.1.1 Irrelevant/incorrect variable cited or used)', 0),\n",
    "    'Incorrect value of variable cited or used': dist_noloc.get('(1.3.2 Incorrect value of variable cited or used)', 0),\n",
    "    'Relevant variable missing, Intermediate values': dist_noloc.get('(1.3.1.2 Relevant variable missing)', 0),\n",
    "    'Value of a known variable calculated again': dist_noloc.get('(1.1.2 Value of a known variable calculated again)', 0),\n",
    "    'Unit Inconsistency': dist_noloc.get('2.1 Unit Inconsistency)', 0),\n",
    "    'Calculation Error': dist_noloc.get('2.3 Calculation Error)', 0),\n",
    "    'Incorrect Value': dist_noloc.get('(3.3.2 Incorrect value))', 0)\n",
    "}\n",
    "results_noloc"
   ]
  },
  {
   "cell_type": "code",
   "execution_count": 13,
   "id": "1eb86fc6",
   "metadata": {},
   "outputs": [
    {
     "data": {
      "text/plain": [
       "{'Irrelevant/incorrect variable cited or used': np.int64(1),\n",
       " 'Incorrect value of variable cited or used': np.int64(4),\n",
       " 'Relevant variable missing, Intermediate values': 0,\n",
       " 'Value of a known variable calculated again': np.int64(1),\n",
       " 'Unit Inconsistency': 0,\n",
       " 'Calculation Error': np.int64(3),\n",
       " 'Incorrect Value': 0}"
      ]
     },
     "execution_count": 13,
     "metadata": {},
     "output_type": "execute_result"
    }
   ],
   "source": [
    "results_baseline = {\n",
    "    'Irrelevant/incorrect variable cited or used': dist_baseline.get('(1.3.1.1 Irrelevant/incorrect variable cited or used)', 0),\n",
    "    'Incorrect value of variable cited or used': dist_baseline.get('(1.3.2 Incorrect value of variable cited or used)', 0),\n",
    "    'Relevant variable missing, Intermediate values': dist_baseline.get('(1.3.1.2 Relevant variable missing)', 0),\n",
    "    'Value of a known variable calculated again': dist_baseline.get('(1.1.2 Value of a known variable calculated again)', 0),\n",
    "    'Unit Inconsistency': dist_baseline.get('2.1 Unit Inconsistency)', 0),\n",
    "    'Calculation Error': dist_baseline.get('2.3 Calculation Error)', 0),\n",
    "    'Incorrect Value': dist_baseline.get('(3.3.2 Incorrect value)', 0)\n",
    "}\n",
    "results_baseline"
   ]
  },
  {
   "cell_type": "code",
   "execution_count": 14,
   "id": "8f208cf4",
   "metadata": {},
   "outputs": [
    {
     "data": {
      "text/plain": [
       "{'Error 1.1': [np.int64(2), np.int64(2), np.int64(3), np.int64(1)],\n",
       " 'Error 1.2': [np.int64(5), np.int64(4), np.int64(3), np.int64(4)],\n",
       " 'Error 1.3': [np.int64(1), 0, 0, 0],\n",
       " 'Error 2': [np.int64(1), np.int64(1), np.int64(1), np.int64(1)],\n",
       " 'Error 3.1': [0, 0, 0, 0],\n",
       " 'Error 3.2': [np.int64(3), np.int64(2), np.int64(2), np.int64(3)],\n",
       " 'Error 4': [0, 0, 0, 0]}"
      ]
     },
     "execution_count": 14,
     "metadata": {},
     "output_type": "execute_result"
    }
   ],
   "source": [
    "results_all = {\n",
    "    'Error 1.1': [results_full['Irrelevant/incorrect variable cited or used'], \n",
    "                results_genloc['Irrelevant/incorrect variable cited or used'], \n",
    "                results_noloc['Irrelevant/incorrect variable cited or used'], \n",
    "                results_baseline['Irrelevant/incorrect variable cited or used']],\n",
    "    'Error 1.2': [results_full['Incorrect value of variable cited or used'], \n",
    "                results_genloc['Incorrect value of variable cited or used'], \n",
    "                results_noloc['Incorrect value of variable cited or used'], \n",
    "                results_baseline['Incorrect value of variable cited or used']],\n",
    "    'Error 1.3': [results_full['Relevant variable missing, Intermediate values'], \n",
    "                results_genloc['Relevant variable missing, Intermediate values'], \n",
    "                results_noloc['Relevant variable missing, Intermediate values'], \n",
    "                results_baseline['Relevant variable missing, Intermediate values']],\n",
    "    'Error 2': [results_full['Value of a known variable calculated again'], \n",
    "                results_genloc['Value of a known variable calculated again'], \n",
    "                results_noloc['Value of a known variable calculated again'], \n",
    "                results_baseline['Value of a known variable calculated again']],\n",
    "    'Error 3.1': [results_full['Unit Inconsistency'], \n",
    "                results_genloc['Unit Inconsistency'], \n",
    "                results_noloc['Unit Inconsistency'], \n",
    "                results_baseline['Unit Inconsistency']],\n",
    "    'Error 3.2': [results_full['Calculation Error'], \n",
    "                    results_genloc['Calculation Error'], \n",
    "                    results_noloc['Calculation Error'], \n",
    "                    results_baseline['Calculation Error']],\n",
    "    'Error 4': [results_full['Incorrect Value'], \n",
    "                results_genloc['Incorrect Value'], \n",
    "                results_noloc['Incorrect Value'], \n",
    "                results_baseline['Incorrect Value']]\n",
    "}\n",
    "\n",
    "results_all"
   ]
  },
  {
   "cell_type": "code",
   "execution_count": 15,
   "id": "b705c4fe",
   "metadata": {},
   "outputs": [],
   "source": [
    "methods = (\"Error location with Type\", \"General Error location with Type\", \n",
    "           \"No error location with Type\", \"No error location and Type\")"
   ]
  },
  {
   "cell_type": "code",
   "execution_count": null,
   "id": "17a63cdc",
   "metadata": {},
   "outputs": [
    {
     "data": {
      "image/png": "[encoded data removed]",
      "text/plain": [
       "<Figure size 1000x600 with 1 Axes>"
      ]
     },
     "metadata": {},
     "output_type": "display_data"
    }
   ],
   "source": [
    "import numpy as np\n",
    "import matplotlib.pyplot as plt\n",
    "\n",
    "bar_width = 0.18        \n",
    "group_gap = 1.0         \n",
    "num_attributes = len(results_all)\n",
    "\n",
    "x_base = np.arange(len(methods)) * (num_attributes * bar_width + group_gap)\n",
    "\n",
    "fig, ax = plt.subplots(figsize=(10, 6), layout='constrained') \n",
    "\n",
    "multiplier = 0\n",
    "for attribute, measurement in results_all.items():\n",
    "    offset = bar_width * multiplier\n",
    "    # Bar positions: base position + offset\n",
    "    rects = ax.bar(x_base + offset, measurement, bar_width, label=attribute)\n",
    "    ax.bar_label(rects, padding=3, fontsize=12)\n",
    "    multiplier += 1\n",
    "\n",
    "tick_positions = x_base + (bar_width * num_attributes) / 2 - bar_width / 2\n",
    "\n",
    "ax.set_ylabel('# of samples')\n",
    "ax.set_title('Prompting Methods Comparison')\n",
    "ax.set_xticks(tick_positions, methods) \n",
    "ax.legend(loc='upper left', ncols=4, fontsize=12)\n",
    "ax.set_ylim(0, 18) \n",
    "\n",
    "ax.yaxis.grid(True, linestyle='--', alpha=0.7)\n",
    "\n",
    "output_filename = 'graphs/phi4_comparisons.png'\n",
    "plt.savefig(output_filename, dpi=300, bbox_inches='tight')\n",
    "plt.show()"
   ]
  },
  {
   "cell_type": "code",
   "execution_count": null,
   "id": "b1c89bc3",
   "metadata": {},
   "outputs": [],
   "source": []
  }
 ],
 "metadata": {
  "kernelspec": {
   "display_name": "NLG_project",
   "language": "python",
   "name": "python3"
  },
  "language_info": {
   "codemirror_mode": {
    "name": "ipython",
    "version": 3
   },
   "file_extension": ".py",
   "mimetype": "text/x-python",
   "name": "python",
   "nbconvert_exporter": "python",
   "pygments_lexer": "ipython3",
   "version": "3.11.11"
  }
 },
 "nbformat": 4,
 "nbformat_minor": 5
}
