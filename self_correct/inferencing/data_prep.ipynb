{
 "cells": [
  {
   "cell_type": "code",
   "execution_count": 2,
   "metadata": {},
   "outputs": [],
   "source": [
    "import pandas as pd\n",
    "gsm_sym_df = pd.read_json('../data/GSM_symbolic.json')\n",
    "save_directory =\"../data/preprocessed\""
   ]
  },
  {
   "cell_type": "markdown",
   "metadata": {},
   "source": [
    "### GSM_symbolic"
   ]
  },
  {
   "cell_type": "code",
   "execution_count": 4,
   "metadata": {},
   "outputs": [],
   "source": [
    "questions_list = []\n",
    "\n",
    "for idx, row in gsm_sym_df.iterrows():\n",
    "    question = row['question']\n",
    "    answer = row['answer']\n",
    "\n",
    "    questions_list.append({'question': question, 'answer': answer})\n",
    "\n",
    "gsm_data = pd.DataFrame(questions_list)\n",
    "gsm_data.to_csv(save_directory + '/gsm_data.csv')"
   ]
  }
 ],
 "metadata": {
  "kernelspec": {
   "display_name": "base",
   "language": "python",
   "name": "python3"
  },
  "language_info": {
   "codemirror_mode": {
    "name": "ipython",
    "version": 3
   },
   "file_extension": ".py",
   "mimetype": "text/x-python",
   "name": "python",
   "nbconvert_exporter": "python",
   "pygments_lexer": "ipython3",
   "version": "3.11.11"
  }
 },
 "nbformat": 4,
 "nbformat_minor": 2
}
