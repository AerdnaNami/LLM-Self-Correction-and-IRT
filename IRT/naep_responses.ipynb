{
 "cells": [
  {
   "cell_type": "code",
   "execution_count": 3,
   "id": "73464306",
   "metadata": {},
   "outputs": [],
   "source": [
    "import pandas as pd"
   ]
  },
  {
   "cell_type": "code",
   "execution_count": 4,
   "id": "a103553c",
   "metadata": {},
   "outputs": [],
   "source": [
    "import base64\n",
    "\n",
    "def encode_image_from_file(image_path):\n",
    "    try:\n",
    "        with open(image_path, \"rb\") as image_file:\n",
    "            encoded = base64.b64encode(image_file.read()).decode(\"utf-8\")\n",
    "            return f\"data:image/jpeg;base64,{encoded}\"\n",
    "    except Exception as e:\n",
    "        print(f\"Error loading image {image_path}: {str(e)}\")\n",
    "        return None"
   ]
  },
  {
   "cell_type": "code",
   "execution_count": 5,
   "id": "0f9b2407",
   "metadata": {},
   "outputs": [],
   "source": [
    "import re\n",
    "\n",
    "def extract_final_ans(response):\n",
    "    gpt_answer_match = re.search(r\"Answer:\\s*(.*)\", response)\n",
    "    gpt_answer = gpt_answer_match.group(1) if gpt_answer_match else \"Unknown\"\n",
    "\n",
    "    return gpt_answer"
   ]
  },
  {
   "cell_type": "code",
   "execution_count": null,
   "id": "2b299a54",
   "metadata": {},
   "outputs": [],
   "source": [
    "from openai import OpenAI\n",
    "\n",
    "client = OpenAI(\n",
    "  base_url=\"https://openrouter.ai/api/v1\",\n",
    "  api_key=\"..\",\n",
    ")\n",
    "\n",
    "def ask_qwen(prompt, no_image, image_path):\n",
    "    if no_image:\n",
    "        completion = client.chat.completions.create(\n",
    "            model=\"qwen/qwen2.5-coder-7b-instruct\",\n",
    "            messages=[\n",
    "                {\"role\": \"assistant\", \"content\": \"You are a helpful assistant who will answer all questions with a solution.\"},\n",
    "                {\n",
    "                    \"role\": \"user\",\n",
    "                    \"content\": prompt\n",
    "                }\n",
    "            ]\n",
    "        )\n",
    "        if completion.choices[0].message.content != None:\n",
    "            return completion.choices[0].message.content\n",
    "        else:\n",
    "            return 'No response'\n",
    "    else:\n",
    "        image_base64 = encode_image_from_file(image_path)\n",
    "        if not image_base64:\n",
    "            return \"Error: Unable to process image.\"\n",
    "        \n",
    "        completion = client.chat.completions.create(\n",
    "            model=\"qwen/qwen2.5-coder-7b-instruct\",\n",
    "            messages=[\n",
    "                {\"role\": \"assistant\", \"content\": \"You are a helpful assistant who will answer all questions with a solution.\"},\n",
    "                {\n",
    "                    \"role\": \"user\",\n",
    "                    \"content\": [\n",
    "                        {\"type\": \"text\", \"text\": prompt},\n",
    "                        {\"type\": \"image_url\", \"image_url\": {\"url\": image_base64}},\n",
    "                    ],\n",
    "                }\n",
    "            ]\n",
    "        )\n",
    "        return completion.choices[0].message.content\n",
    "        "
   ]
  },
  {
   "cell_type": "code",
   "execution_count": null,
   "id": "3e605e64",
   "metadata": {},
   "outputs": [],
   "source": [
    "from openai import OpenAI\n",
    "\n",
    "api_key = '..'\n",
    "client = OpenAI(api_key=api_key)\n",
    "\n",
    "def ask_gpt(prompt, no_image, image_path):\n",
    "    if no_image:\n",
    "        completion = client.chat.completions.create(\n",
    "            model=\"gpt-4o\",\n",
    "            messages=[\n",
    "                {\"role\": \"assistant\", \"content\": \"You are a helpful assistant who will answer all questions with a solution.\"},\n",
    "                {\n",
    "                    \"role\": \"user\",\n",
    "                    \"content\": prompt\n",
    "                }\n",
    "            ]\n",
    "        )\n",
    "        return completion.choices[0].message.content\n",
    "    else:\n",
    "        image_base64 = encode_image_from_file(image_path)\n",
    "        if not image_base64:\n",
    "            return \"Error: Unable to process image.\"\n",
    "        \n",
    "        completion = client.chat.completions.create(\n",
    "            model=\"gpt-4o\",\n",
    "            messages=[\n",
    "                {\"role\": \"assistant\", \"content\": \"You are a helpful assistant who will answer all questions with a solution.\"},\n",
    "                {\n",
    "                    \"role\": \"user\",\n",
    "                    \"content\": [\n",
    "                        {\"type\": \"text\", \"text\": prompt},\n",
    "                        {\"type\": \"image_url\", \"image_url\": {\"url\": image_base64}},\n",
    "                    ],\n",
    "                }\n",
    "            ]\n",
    "        )\n",
    "        return completion.choices[0].message.content\n",
    "        "
   ]
  },
  {
   "cell_type": "code",
   "execution_count": null,
   "id": "98f70a5a",
   "metadata": {},
   "outputs": [],
   "source": [
    "from openai import OpenAI\n",
    "\n",
    "client = OpenAI(\n",
    "  base_url=\"https://openrouter.ai/api/v1\",\n",
    "  api_key=\"..\",\n",
    ")\n",
    "\n",
    "def ask_r1(prompt, no_image, image_path):\n",
    "    if no_image:\n",
    "        completion = client.chat.completions.create(\n",
    "            model=\"deepseek/deepseek-r1\",\n",
    "            messages=[\n",
    "                {\"role\": \"assistant\", \"content\": \"You are a helpful assistant who will answer all questions with a solution.\"},\n",
    "                {\n",
    "                    \"role\": \"user\",\n",
    "                    \"content\": prompt\n",
    "                }\n",
    "            ]\n",
    "        )\n",
    "        return completion.choices[0].message.content\n",
    "    else:\n",
    "        image_base64 = encode_image_from_file(image_path)\n",
    "        if not image_base64:\n",
    "            return \"Error: Unable to process image.\"\n",
    "        \n",
    "        completion = client.chat.completions.create(\n",
    "            model=\"deepseek/deepseek-r1\",\n",
    "            messages=[\n",
    "                {\"role\": \"assistant\", \"content\": \"You are a helpful assistant who will answer all questions with a solution.\"},\n",
    "                {\n",
    "                    \"role\": \"user\",\n",
    "                    \"content\": [\n",
    "                        {\"type\": \"text\", \"text\": prompt},\n",
    "                        {\"type\": \"image_url\", \"image_url\": {\"url\": image_base64}},\n",
    "                    ],\n",
    "                }\n",
    "            ]\n",
    "        )\n",
    "        return completion.choices[0].message.content"
   ]
  },
  {
   "cell_type": "code",
   "execution_count": null,
   "id": "f8c4d3ef",
   "metadata": {},
   "outputs": [],
   "source": [
    "from openai import OpenAI\n",
    "\n",
    "client = OpenAI(\n",
    "  base_url=\"https://openrouter.ai/api/v1\",\n",
    "  api_key=\"..\",\n",
    ")\n",
    "\n",
    "def ask_phi4(prompt, no_image, image_path):\n",
    "    if no_image:\n",
    "        completion = client.chat.completions.create(\n",
    "            model=\"microsoft/phi-4\",\n",
    "            messages=[\n",
    "                {\"role\": \"assistant\", \"content\": \"You are a helpful assistant who will answer all questions with a solution.\"},\n",
    "                {\n",
    "                    \"role\": \"user\",\n",
    "                    \"content\": prompt\n",
    "                }\n",
    "            ]\n",
    "        )\n",
    "        return completion.choices[0].message.content\n",
    "    else:\n",
    "        image_base64 = encode_image_from_file(image_path)\n",
    "        if not image_base64:\n",
    "            return \"Error: Unable to process image.\"\n",
    "        \n",
    "        completion = client.chat.completions.create(\n",
    "            model=\"microsoft/phi-4-multimodal-instruct\",\n",
    "            messages=[\n",
    "                {\"role\": \"assistant\", \"content\": \"You are a helpful assistant who will answer all questions with a solution.\"},\n",
    "                {\n",
    "                    \"role\": \"user\",\n",
    "                    \"content\": [\n",
    "                        {\"type\": \"text\", \"text\": prompt},\n",
    "                        {\"type\": \"image_url\", \"image_url\": {\"url\": image_base64}},\n",
    "                    ],\n",
    "                }\n",
    "            ]\n",
    "        )\n",
    "        return completion.choices[0].message.content"
   ]
  },
  {
   "cell_type": "code",
   "execution_count": null,
   "id": "84f9f794",
   "metadata": {},
   "outputs": [],
   "source": [
    "from openai import OpenAI\n",
    "\n",
    "client = OpenAI(\n",
    "  base_url=\"https://openrouter.ai/api/v1\",\n",
    "  api_key=\"..\",\n",
    ")\n",
    "\n",
    "\n",
    "def ask_gemma3(prompt, no_image, image_path):\n",
    "    if no_image:\n",
    "        completion = client.chat.completions.create(\n",
    "            model=\"google/gemma-3-27b-it\",\n",
    "            messages=[\n",
    "                {\"role\": \"assistant\", \"content\": \"You are a helpful assistant who will answer all questions with a solution.\"},\n",
    "                {\n",
    "                    \"role\": \"user\",\n",
    "                    \"content\": prompt\n",
    "                }\n",
    "            ]\n",
    "        )\n",
    "        return completion.choices[0].message.content\n",
    "    else:\n",
    "        image_base64 = encode_image_from_file(image_path)\n",
    "        if not image_base64:\n",
    "            return \"Error: Unable to process image.\"\n",
    "        \n",
    "        completion = client.chat.completions.create(\n",
    "            model=\"google/gemma-3-27b-it\",\n",
    "            messages=[\n",
    "                {\"role\": \"assistant\", \"content\": \"You are a helpful assistant who will answer all questions with a solution.\"},\n",
    "                {\n",
    "                    \"role\": \"user\",\n",
    "                    \"content\": [\n",
    "                        {\"type\": \"text\", \"text\": prompt},\n",
    "                        {\"type\": \"image_url\", \"image_url\": {\"url\": image_base64}},\n",
    "                    ],\n",
    "                }\n",
    "            ]\n",
    "        )\n",
    "        return completion.choices[0].message.content"
   ]
  },
  {
   "cell_type": "code",
   "execution_count": null,
   "id": "c8ef7ecd",
   "metadata": {},
   "outputs": [],
   "source": [
    "from openai import OpenAI\n",
    "\n",
    "client = OpenAI(\n",
    "  base_url=\"https://openrouter.ai/api/v1\",\n",
    "  api_key=\"..\",\n",
    ")\n",
    "\n",
    "\n",
    "def ask_llama3(prompt, no_image, image_path):\n",
    "    if no_image:\n",
    "        completion = client.chat.completions.create(\n",
    "            model=\"meta-llama/llama-3-8b-instruct\",\n",
    "            messages=[\n",
    "                {\"role\": \"assistant\", \"content\": \"You are a helpful assistant who will answer all questions with a solution.\"},\n",
    "                {\n",
    "                    \"role\": \"user\",\n",
    "                    \"content\": prompt\n",
    "                }\n",
    "            ]\n",
    "        )\n",
    "        return completion.choices[0].message.content\n",
    "    else:\n",
    "        image_base64 = encode_image_from_file(image_path)\n",
    "        if not image_base64:\n",
    "            return \"Error: Unable to process image.\"\n",
    "        \n",
    "        completion = client.chat.completions.create(\n",
    "            model=\"meta-llama/llama-3-8b-instruct\",\n",
    "            messages=[\n",
    "                {\"role\": \"assistant\", \"content\": \"You are a helpful assistant who will answer all questions with a solution.\"},\n",
    "                {\n",
    "                    \"role\": \"user\",\n",
    "                    \"content\": [\n",
    "                        {\"type\": \"text\", \"text\": prompt},\n",
    "                        {\"type\": \"image_url\", \"image_url\": {\"url\": image_base64}},\n",
    "                    ],\n",
    "                }\n",
    "            ]\n",
    "        )\n",
    "        return completion.choices[0].message.content"
   ]
  },
  {
   "cell_type": "code",
   "execution_count": 31,
   "id": "46196837",
   "metadata": {},
   "outputs": [],
   "source": [
    "def ask_model(model_name, prompt, no_image, image_path):\n",
    "    if model_name == 'gpt_4o':\n",
    "        response = ask_gpt(prompt, no_image, image_path)\n",
    "    elif model_name=='r1':\n",
    "        response = ask_r1(prompt, no_image, image_path)\n",
    "    elif model_name=='phi4':\n",
    "        response = ask_phi4(prompt, no_image, image_path)\n",
    "    elif model_name=='gemma3':\n",
    "        response = ask_gemma3(prompt, no_image, image_path)\n",
    "    elif model_name=='qwen2.5':\n",
    "        response = ask_qwen(prompt, no_image, image_path)\n",
    "    elif model_name=='llama3':\n",
    "        response = ask_llama3(prompt, no_image, image_path)\n",
    "    return response"
   ]
  },
  {
   "cell_type": "code",
   "execution_count": 12,
   "id": "91482d51",
   "metadata": {},
   "outputs": [],
   "source": [
    "from tqdm import tqdm\n",
    "\n",
    "def collect_responses(df, model_name):\n",
    "    llm_responses = [] # Renamed for clarity\n",
    "\n",
    "    for _, row in tqdm(df.iterrows(), total=df.shape[0]):\n",
    "        question = row['question']\n",
    "        options = row['options']\n",
    "        image_id = row['question_id']\n",
    "        original_answer = row['answer'] # Store original answer\n",
    "\n",
    "        # 1. Determine image presence and path\n",
    "        has_image = False   \n",
    "        image_path = f'images/{image_id}.png' if has_image else None\n",
    "        no_image_flag = not has_image\n",
    "        print(f\"Processing ID {image_id}: QUESTION {'WITH' if has_image else 'WITHOUT'} IMAGE\")\n",
    "\n",
    "        # 2. Construct the prompt dynamically\n",
    "        image_context = \" that relates to information provided in the image\" if has_image else \"\"\n",
    "        options_text = f\"\\n{options}\" if not pd.isna(options) else \"\"\n",
    "\n",
    "        prompt = f\"\"\"Answer the following question. Please use Chain of Thought and number each step:\n",
    "{question}{options_text}\n",
    "\n",
    "Have your final answer strictly at the end of your response in this form:\n",
    "Answer:\n",
    "\"\"\"\n",
    "        response = ask_model(model_name, prompt, no_image=no_image_flag, image_path=image_path)\n",
    "\n",
    "        final_ans = extract_final_ans(response)\n",
    "\n",
    "        llm_responses.append({\n",
    "            'id': row['question_id'],\n",
    "            'question': question,\n",
    "            'options': row['options'],\n",
    "            'answer': original_answer, \n",
    "            'llm_answer': response,\n",
    "            'final_ans': final_ans\n",
    "        })\n",
    "\n",
    "    return llm_responses\n"
   ]
  },
  {
   "cell_type": "markdown",
   "id": "fdcdcfba",
   "metadata": {},
   "source": [
    "### Reading data"
   ]
  },
  {
   "cell_type": "code",
   "execution_count": 13,
   "id": "1e359ba4",
   "metadata": {},
   "outputs": [
    {
     "data": {
      "text/html": [
       "<div>\n",
       "<style scoped>\n",
       "    .dataframe tbody tr th:only-of-type {\n",
       "        vertical-align: middle;\n",
       "    }\n",
       "\n",
       "    .dataframe tbody tr th {\n",
       "        vertical-align: top;\n",
       "    }\n",
       "\n",
       "    .dataframe thead th {\n",
       "        text-align: right;\n",
       "    }\n",
       "</style>\n",
       "<table border=\"1\" class=\"dataframe\">\n",
       "  <thead>\n",
       "    <tr style=\"text-align: right;\">\n",
       "      <th></th>\n",
       "      <th>question_id</th>\n",
       "      <th>question</th>\n",
       "      <th>options</th>\n",
       "      <th>answer</th>\n",
       "      <th>a</th>\n",
       "      <th>b</th>\n",
       "    </tr>\n",
       "  </thead>\n",
       "  <tbody>\n",
       "    <tr>\n",
       "      <th>0</th>\n",
       "      <td>M184601</td>\n",
       "      <td>Which of the following expressions is NOT equi...</td>\n",
       "      <td>A. (a+b)x+(a+b)y\\nB. a(x+y)+b(x+y)\\nC. (b+a)(y...</td>\n",
       "      <td>D</td>\n",
       "      <td>1.45</td>\n",
       "      <td>0.06</td>\n",
       "    </tr>\n",
       "    <tr>\n",
       "      <th>1</th>\n",
       "      <td>M130101</td>\n",
       "      <td>Yvonne has studied the cost of tickets over ti...</td>\n",
       "      <td>A. $5\\nB. $8\\nC. $13\\nD. $18\\nE. $26</td>\n",
       "      <td>A</td>\n",
       "      <td>2.46</td>\n",
       "      <td>1.24</td>\n",
       "    </tr>\n",
       "    <tr>\n",
       "      <th>2</th>\n",
       "      <td>M190101</td>\n",
       "      <td>The first four terms in a sequence are shown b...</td>\n",
       "      <td>A. The 5th term\\nB. The 6th term\\nC. The 7th t...</td>\n",
       "      <td>C</td>\n",
       "      <td>0.69</td>\n",
       "      <td>-0.09</td>\n",
       "    </tr>\n",
       "    <tr>\n",
       "      <th>3</th>\n",
       "      <td>M191501</td>\n",
       "      <td>John is going to cover an attic floor with ins...</td>\n",
       "      <td>A. 1\\nB. 2\\nC. 8\\nD. 14\\nE. 110</td>\n",
       "      <td>D</td>\n",
       "      <td>1.41</td>\n",
       "      <td>-0.44</td>\n",
       "    </tr>\n",
       "    <tr>\n",
       "      <th>4</th>\n",
       "      <td>M135401</td>\n",
       "      <td>A cat lies crouched on level ground 50 feet aw...</td>\n",
       "      <td>A. 32\\nB. 38\\nC. 42\\nD. 60\\nE. 65</td>\n",
       "      <td>C</td>\n",
       "      <td>1.19</td>\n",
       "      <td>1.15</td>\n",
       "    </tr>\n",
       "    <tr>\n",
       "      <th>5</th>\n",
       "      <td>M180601</td>\n",
       "      <td>(16^(1/2))^3 = ?</td>\n",
       "      <td>A. 512\\nB. 64\\nC. 48\\nD. 24\\nE. 12</td>\n",
       "      <td>B</td>\n",
       "      <td>1.76</td>\n",
       "      <td>0.84</td>\n",
       "    </tr>\n",
       "    <tr>\n",
       "      <th>6</th>\n",
       "      <td>M135301</td>\n",
       "      <td>The town of Mayville taxes property at a rate ...</td>\n",
       "      <td>A. $42,000\\nB. $47,250\\nC. $125,000\\nD. $220,5...</td>\n",
       "      <td>C</td>\n",
       "      <td>1.78</td>\n",
       "      <td>0.55</td>\n",
       "    </tr>\n",
       "    <tr>\n",
       "      <th>7</th>\n",
       "      <td>M094901</td>\n",
       "      <td>The cost to mail a first-class letter is 33 ce...</td>\n",
       "      <td>{'A': '55 cents', 'B': '66 cents', 'C': '77 ce...</td>\n",
       "      <td>C</td>\n",
       "      <td>1.24</td>\n",
       "      <td>-0.30</td>\n",
       "    </tr>\n",
       "    <tr>\n",
       "      <th>8</th>\n",
       "      <td>M011331</td>\n",
       "      <td>If a 2 by 18 rectangle has the same area as a ...</td>\n",
       "      <td>{'A': '4', 'B': '6', 'C': '8', 'D': '10', 'E':...</td>\n",
       "      <td>B</td>\n",
       "      <td>1.32</td>\n",
       "      <td>0.10</td>\n",
       "    </tr>\n",
       "    <tr>\n",
       "      <th>9</th>\n",
       "      <td>M094801</td>\n",
       "      <td>In a school fund-raiser, 10 students in class ...</td>\n",
       "      <td>{'A': '1325', 'B': '1', 'C': '612', 'D': '7', ...</td>\n",
       "      <td>D</td>\n",
       "      <td>0.76</td>\n",
       "      <td>1.64</td>\n",
       "    </tr>\n",
       "    <tr>\n",
       "      <th>10</th>\n",
       "      <td>M071601</td>\n",
       "      <td>Easy Ride Van Company finds that about 40 perc...</td>\n",
       "      <td>{'A': '1', 'B': '3', 'C': '5', 'D': '7', 'E': ...</td>\n",
       "      <td>C</td>\n",
       "      <td>0.96</td>\n",
       "      <td>-0.12</td>\n",
       "    </tr>\n",
       "    <tr>\n",
       "      <th>11</th>\n",
       "      <td>M059001</td>\n",
       "      <td>If the digit in the tens place of 37,241 is in...</td>\n",
       "      <td>{'A': 'The number has been decreased by 990.',...</td>\n",
       "      <td>A</td>\n",
       "      <td>1.14</td>\n",
       "      <td>0.15</td>\n",
       "    </tr>\n",
       "    <tr>\n",
       "      <th>12</th>\n",
       "      <td>M053201</td>\n",
       "      <td>In the solution of the system of equations abo...</td>\n",
       "      <td>{'A': '- 1', 'B': '2', 'C': '3', 'D': '4', 'E'...</td>\n",
       "      <td>C</td>\n",
       "      <td>1.18</td>\n",
       "      <td>0.57</td>\n",
       "    </tr>\n",
       "    <tr>\n",
       "      <th>13</th>\n",
       "      <td>M059601</td>\n",
       "      <td>The remainder when a number n is divided by 7 ...</td>\n",
       "      <td>{'A': '1', 'B': '2', 'C': '3', 'D': '4', 'E': ...</td>\n",
       "      <td>E</td>\n",
       "      <td>1.54</td>\n",
       "      <td>1.10</td>\n",
       "    </tr>\n",
       "    <tr>\n",
       "      <th>14</th>\n",
       "      <td>M019401</td>\n",
       "      <td>What are all values of x such that x2+7x+6≥0 ?</td>\n",
       "      <td>{'A': '-6≤x≤-1', 'B': '-6≤x≤1', 'C': '1≤x≤6', ...</td>\n",
       "      <td>D</td>\n",
       "      <td>1.48</td>\n",
       "      <td>1.66</td>\n",
       "    </tr>\n",
       "    <tr>\n",
       "      <th>15</th>\n",
       "      <td>M127501</td>\n",
       "      <td>The first term in a sequence of numbers is 12....</td>\n",
       "      <td>{'A': '2', 'B': '4', 'C': '5', 'D': '11', 'E':...</td>\n",
       "      <td>D</td>\n",
       "      <td>0.90</td>\n",
       "      <td>0.45</td>\n",
       "    </tr>\n",
       "    <tr>\n",
       "      <th>16</th>\n",
       "      <td>M133101</td>\n",
       "      <td>Rosa is twice as old as Byron. Fred is one yea...</td>\n",
       "      <td>{'A': '12(F-1) and F-1', 'B': '12(F+1) and F+1...</td>\n",
       "      <td>C</td>\n",
       "      <td>1.00</td>\n",
       "      <td>0.87</td>\n",
       "    </tr>\n",
       "    <tr>\n",
       "      <th>17</th>\n",
       "      <td>M130001</td>\n",
       "      <td>A particular flu vaccine is effective for 90 p...</td>\n",
       "      <td>{'A': '0.54', 'B': '0.63', 'C': '0.72', 'D': '...</td>\n",
       "      <td>D</td>\n",
       "      <td>1.39</td>\n",
       "      <td>1.44</td>\n",
       "    </tr>\n",
       "    <tr>\n",
       "      <th>18</th>\n",
       "      <td>M127901</td>\n",
       "      <td>An election involving four candidates for mayo...</td>\n",
       "      <td>{'A': 'Circle graph', 'B': 'Line graph', 'C': ...</td>\n",
       "      <td>A</td>\n",
       "      <td>0.48</td>\n",
       "      <td>-0.20</td>\n",
       "    </tr>\n",
       "    <tr>\n",
       "      <th>19</th>\n",
       "      <td>M135301</td>\n",
       "      <td>The town of Mayville taxes property at a rate ...</td>\n",
       "      <td>{'A': '$42,000', 'B': '$47,250', 'C': '$125,00...</td>\n",
       "      <td>C</td>\n",
       "      <td>1.78</td>\n",
       "      <td>0.55</td>\n",
       "    </tr>\n",
       "    <tr>\n",
       "      <th>20</th>\n",
       "      <td>M127001</td>\n",
       "      <td>The number of bacteria present in a laboratory...</td>\n",
       "      <td>{'A': '250', 'B': '500', 'C': '750', 'D': '1,0...</td>\n",
       "      <td>B</td>\n",
       "      <td>1.25</td>\n",
       "      <td>1.04</td>\n",
       "    </tr>\n",
       "    <tr>\n",
       "      <th>21</th>\n",
       "      <td>M135401</td>\n",
       "      <td>A cat lies crouched on level ground 50 feet aw...</td>\n",
       "      <td>{'A': '32', 'B': '38', 'C': '42', 'D': '60', '...</td>\n",
       "      <td>C</td>\n",
       "      <td>1.19</td>\n",
       "      <td>1.15</td>\n",
       "    </tr>\n",
       "    <tr>\n",
       "      <th>22</th>\n",
       "      <td>M130101</td>\n",
       "      <td>Yvonne has studied the cost of tickets over ti...</td>\n",
       "      <td>{'A': '$5', 'B': '$8', 'C': '$13', 'D': '$18',...</td>\n",
       "      <td>A</td>\n",
       "      <td>2.46</td>\n",
       "      <td>1.24</td>\n",
       "    </tr>\n",
       "  </tbody>\n",
       "</table>\n",
       "</div>"
      ],
      "text/plain": [
       "   question_id                                           question  \\\n",
       "0      M184601  Which of the following expressions is NOT equi...   \n",
       "1      M130101  Yvonne has studied the cost of tickets over ti...   \n",
       "2      M190101  The first four terms in a sequence are shown b...   \n",
       "3      M191501  John is going to cover an attic floor with ins...   \n",
       "4      M135401  A cat lies crouched on level ground 50 feet aw...   \n",
       "5      M180601                                   (16^(1/2))^3 = ?   \n",
       "6      M135301  The town of Mayville taxes property at a rate ...   \n",
       "7      M094901  The cost to mail a first-class letter is 33 ce...   \n",
       "8      M011331  If a 2 by 18 rectangle has the same area as a ...   \n",
       "9      M094801  In a school fund-raiser, 10 students in class ...   \n",
       "10     M071601  Easy Ride Van Company finds that about 40 perc...   \n",
       "11     M059001  If the digit in the tens place of 37,241 is in...   \n",
       "12     M053201  In the solution of the system of equations abo...   \n",
       "13     M059601  The remainder when a number n is divided by 7 ...   \n",
       "14     M019401     What are all values of x such that x2+7x+6≥0 ?   \n",
       "15     M127501  The first term in a sequence of numbers is 12....   \n",
       "16     M133101  Rosa is twice as old as Byron. Fred is one yea...   \n",
       "17     M130001  A particular flu vaccine is effective for 90 p...   \n",
       "18     M127901  An election involving four candidates for mayo...   \n",
       "19     M135301  The town of Mayville taxes property at a rate ...   \n",
       "20     M127001  The number of bacteria present in a laboratory...   \n",
       "21     M135401  A cat lies crouched on level ground 50 feet aw...   \n",
       "22     M130101  Yvonne has studied the cost of tickets over ti...   \n",
       "\n",
       "                                              options answer     a     b  \n",
       "0   A. (a+b)x+(a+b)y\\nB. a(x+y)+b(x+y)\\nC. (b+a)(y...      D  1.45  0.06  \n",
       "1                A. $5\\nB. $8\\nC. $13\\nD. $18\\nE. $26      A  2.46  1.24  \n",
       "2   A. The 5th term\\nB. The 6th term\\nC. The 7th t...      C  0.69 -0.09  \n",
       "3                     A. 1\\nB. 2\\nC. 8\\nD. 14\\nE. 110      D  1.41 -0.44  \n",
       "4                   A. 32\\nB. 38\\nC. 42\\nD. 60\\nE. 65      C  1.19  1.15  \n",
       "5                  A. 512\\nB. 64\\nC. 48\\nD. 24\\nE. 12      B  1.76  0.84  \n",
       "6   A. $42,000\\nB. $47,250\\nC. $125,000\\nD. $220,5...      C  1.78  0.55  \n",
       "7   {'A': '55 cents', 'B': '66 cents', 'C': '77 ce...      C  1.24 -0.30  \n",
       "8   {'A': '4', 'B': '6', 'C': '8', 'D': '10', 'E':...      B  1.32  0.10  \n",
       "9   {'A': '1325', 'B': '1', 'C': '612', 'D': '7', ...      D  0.76  1.64  \n",
       "10  {'A': '1', 'B': '3', 'C': '5', 'D': '7', 'E': ...      C  0.96 -0.12  \n",
       "11  {'A': 'The number has been decreased by 990.',...      A  1.14  0.15  \n",
       "12  {'A': '- 1', 'B': '2', 'C': '3', 'D': '4', 'E'...      C  1.18  0.57  \n",
       "13  {'A': '1', 'B': '2', 'C': '3', 'D': '4', 'E': ...      E  1.54  1.10  \n",
       "14  {'A': '-6≤x≤-1', 'B': '-6≤x≤1', 'C': '1≤x≤6', ...      D  1.48  1.66  \n",
       "15  {'A': '2', 'B': '4', 'C': '5', 'D': '11', 'E':...      D  0.90  0.45  \n",
       "16  {'A': '12(F-1) and F-1', 'B': '12(F+1) and F+1...      C  1.00  0.87  \n",
       "17  {'A': '0.54', 'B': '0.63', 'C': '0.72', 'D': '...      D  1.39  1.44  \n",
       "18  {'A': 'Circle graph', 'B': 'Line graph', 'C': ...      A  0.48 -0.20  \n",
       "19  {'A': '$42,000', 'B': '$47,250', 'C': '$125,00...      C  1.78  0.55  \n",
       "20  {'A': '250', 'B': '500', 'C': '750', 'D': '1,0...      B  1.25  1.04  \n",
       "21  {'A': '32', 'B': '38', 'C': '42', 'D': '60', '...      C  1.19  1.15  \n",
       "22  {'A': '$5', 'B': '$8', 'C': '$13', 'D': '$18',...      A  2.46  1.24  "
      ]
     },
     "execution_count": 13,
     "metadata": {},
     "output_type": "execute_result"
    }
   ],
   "source": [
    "naem_df = pd.read_csv('total_naep_complete_2.csv')\n",
    "naem_df"
   ]
  },
  {
   "cell_type": "markdown",
   "id": "c7afa4a1",
   "metadata": {},
   "source": [
    "### GPT 4o"
   ]
  },
  {
   "cell_type": "code",
   "execution_count": null,
   "id": "1c55cba3",
   "metadata": {},
   "outputs": [],
   "source": [
    "gpt_responses = collect_responses(naem_df, 'gpt_4o')\n",
    "gpt_responses_df = pd.DataFrame(gpt_responses)\n",
    "gpt_responses_df.to_csv('responses_mcq/gpt_4o_naep_2.csv')"
   ]
  },
  {
   "cell_type": "markdown",
   "id": "04267a6a",
   "metadata": {},
   "source": [
    "### Deepseek R1"
   ]
  },
  {
   "cell_type": "code",
   "execution_count": null,
   "id": "38169d32",
   "metadata": {},
   "outputs": [],
   "source": [
    "r1_responses = collect_responses(naem_df, 'r1')\n",
    "r1_responses_df = pd.DataFrame(r1_responses)\n",
    "r1_responses_df.to_csv('responses_mcq/r1_naep_2.csv')"
   ]
  },
  {
   "cell_type": "markdown",
   "id": "d1e3641e",
   "metadata": {},
   "source": [
    "### Phi 4"
   ]
  },
  {
   "cell_type": "code",
   "execution_count": 13,
   "id": "7d8eae57",
   "metadata": {},
   "outputs": [
    {
     "name": "stderr",
     "output_type": "stream",
     "text": [
      "  0%|          | 0/23 [00:00<?, ?it/s]"
     ]
    },
    {
     "name": "stdout",
     "output_type": "stream",
     "text": [
      "Processing ID M184601: QUESTION WITHOUT IMAGE\n"
     ]
    },
    {
     "name": "stderr",
     "output_type": "stream",
     "text": [
      "  4%|▍         | 1/23 [00:15<05:34, 15.22s/it]"
     ]
    },
    {
     "name": "stdout",
     "output_type": "stream",
     "text": [
      "Processing ID M130101: QUESTION WITHOUT IMAGE\n"
     ]
    },
    {
     "name": "stderr",
     "output_type": "stream",
     "text": [
      "  9%|▊         | 2/23 [00:22<03:46, 10.80s/it]"
     ]
    },
    {
     "name": "stdout",
     "output_type": "stream",
     "text": [
      "Processing ID M190101: QUESTION WITHOUT IMAGE\n"
     ]
    },
    {
     "name": "stderr",
     "output_type": "stream",
     "text": [
      " 13%|█▎        | 3/23 [00:38<04:18, 12.92s/it]"
     ]
    },
    {
     "name": "stdout",
     "output_type": "stream",
     "text": [
      "Processing ID M191501: QUESTION WITHOUT IMAGE\n"
     ]
    },
    {
     "name": "stderr",
     "output_type": "stream",
     "text": [
      " 17%|█▋        | 4/23 [00:50<03:56, 12.47s/it]"
     ]
    },
    {
     "name": "stdout",
     "output_type": "stream",
     "text": [
      "Processing ID M135401: QUESTION WITHOUT IMAGE\n"
     ]
    },
    {
     "name": "stderr",
     "output_type": "stream",
     "text": [
      " 22%|██▏       | 5/23 [00:59<03:24, 11.34s/it]"
     ]
    },
    {
     "name": "stdout",
     "output_type": "stream",
     "text": [
      "Processing ID M180601: QUESTION WITHOUT IMAGE\n"
     ]
    },
    {
     "name": "stderr",
     "output_type": "stream",
     "text": [
      " 26%|██▌       | 6/23 [01:04<02:36,  9.23s/it]"
     ]
    },
    {
     "name": "stdout",
     "output_type": "stream",
     "text": [
      "Processing ID M135301: QUESTION WITHOUT IMAGE\n"
     ]
    },
    {
     "name": "stderr",
     "output_type": "stream",
     "text": [
      " 30%|███       | 7/23 [01:12<02:22,  8.92s/it]"
     ]
    },
    {
     "name": "stdout",
     "output_type": "stream",
     "text": [
      "Processing ID M094901: QUESTION WITHOUT IMAGE\n"
     ]
    },
    {
     "name": "stderr",
     "output_type": "stream",
     "text": [
      " 35%|███▍      | 8/23 [01:19<02:00,  8.02s/it]"
     ]
    },
    {
     "name": "stdout",
     "output_type": "stream",
     "text": [
      "Processing ID M011331: QUESTION WITHOUT IMAGE\n"
     ]
    },
    {
     "name": "stderr",
     "output_type": "stream",
     "text": [
      " 39%|███▉      | 9/23 [01:27<01:52,  8.06s/it]"
     ]
    },
    {
     "name": "stdout",
     "output_type": "stream",
     "text": [
      "Processing ID M094801: QUESTION WITHOUT IMAGE\n"
     ]
    },
    {
     "name": "stderr",
     "output_type": "stream",
     "text": [
      " 43%|████▎     | 10/23 [01:35<01:44,  8.05s/it]"
     ]
    },
    {
     "name": "stdout",
     "output_type": "stream",
     "text": [
      "Processing ID M071601: QUESTION WITHOUT IMAGE\n"
     ]
    },
    {
     "name": "stderr",
     "output_type": "stream",
     "text": [
      " 48%|████▊     | 11/23 [01:41<01:30,  7.51s/it]"
     ]
    },
    {
     "name": "stdout",
     "output_type": "stream",
     "text": [
      "Processing ID M059001: QUESTION WITHOUT IMAGE\n"
     ]
    },
    {
     "name": "stderr",
     "output_type": "stream",
     "text": [
      " 52%|█████▏    | 12/23 [01:47<01:19,  7.19s/it]"
     ]
    },
    {
     "name": "stdout",
     "output_type": "stream",
     "text": [
      "Processing ID M053201: QUESTION WITHOUT IMAGE\n"
     ]
    },
    {
     "name": "stderr",
     "output_type": "stream",
     "text": [
      " 57%|█████▋    | 13/23 [02:20<02:28, 14.90s/it]"
     ]
    },
    {
     "name": "stdout",
     "output_type": "stream",
     "text": [
      "Processing ID M059601: QUESTION WITHOUT IMAGE\n"
     ]
    },
    {
     "name": "stderr",
     "output_type": "stream",
     "text": [
      " 61%|██████    | 14/23 [02:34<02:10, 14.49s/it]"
     ]
    },
    {
     "name": "stdout",
     "output_type": "stream",
     "text": [
      "Processing ID M019401: QUESTION WITHOUT IMAGE\n"
     ]
    },
    {
     "name": "stderr",
     "output_type": "stream",
     "text": [
      " 65%|██████▌   | 15/23 [02:50<01:59, 14.94s/it]"
     ]
    },
    {
     "name": "stdout",
     "output_type": "stream",
     "text": [
      "Processing ID M127501: QUESTION WITHOUT IMAGE\n"
     ]
    },
    {
     "name": "stderr",
     "output_type": "stream",
     "text": [
      " 70%|██████▉   | 16/23 [02:59<01:32, 13.28s/it]"
     ]
    },
    {
     "name": "stdout",
     "output_type": "stream",
     "text": [
      "Processing ID M133101: QUESTION WITHOUT IMAGE\n"
     ]
    },
    {
     "name": "stderr",
     "output_type": "stream",
     "text": [
      " 74%|███████▍  | 17/23 [03:11<01:17, 12.97s/it]"
     ]
    },
    {
     "name": "stdout",
     "output_type": "stream",
     "text": [
      "Processing ID M130001: QUESTION WITHOUT IMAGE\n"
     ]
    },
    {
     "name": "stderr",
     "output_type": "stream",
     "text": [
      " 78%|███████▊  | 18/23 [03:18<00:55, 11.01s/it]"
     ]
    },
    {
     "name": "stdout",
     "output_type": "stream",
     "text": [
      "Processing ID M127901: QUESTION WITHOUT IMAGE\n"
     ]
    },
    {
     "name": "stderr",
     "output_type": "stream",
     "text": [
      " 83%|████████▎ | 19/23 [03:29<00:44, 11.03s/it]"
     ]
    },
    {
     "name": "stdout",
     "output_type": "stream",
     "text": [
      "Processing ID M135301: QUESTION WITHOUT IMAGE\n"
     ]
    },
    {
     "name": "stderr",
     "output_type": "stream",
     "text": [
      " 87%|████████▋ | 20/23 [03:39<00:32, 10.86s/it]"
     ]
    },
    {
     "name": "stdout",
     "output_type": "stream",
     "text": [
      "Processing ID M127001: QUESTION WITHOUT IMAGE\n"
     ]
    },
    {
     "name": "stderr",
     "output_type": "stream",
     "text": [
      " 91%|█████████▏| 21/23 [03:45<00:18,  9.18s/it]"
     ]
    },
    {
     "name": "stdout",
     "output_type": "stream",
     "text": [
      "Processing ID M135401: QUESTION WITHOUT IMAGE\n"
     ]
    },
    {
     "name": "stderr",
     "output_type": "stream",
     "text": [
      " 96%|█████████▌| 22/23 [03:54<00:09,  9.30s/it]"
     ]
    },
    {
     "name": "stdout",
     "output_type": "stream",
     "text": [
      "Processing ID M130101: QUESTION WITHOUT IMAGE\n"
     ]
    },
    {
     "name": "stderr",
     "output_type": "stream",
     "text": [
      "100%|██████████| 23/23 [04:02<00:00, 10.56s/it]\n"
     ]
    }
   ],
   "source": [
    "phi4_responses = collect_responses(naem_df, 'phi4')\n",
    "phi4_responses_df = pd.DataFrame(phi4_responses)\n",
    "phi4_responses_df.to_csv('responses_mcq/phi4_naep_2.csv')"
   ]
  },
  {
   "cell_type": "markdown",
   "id": "c32a65b5",
   "metadata": {},
   "source": [
    "### Gemma 3 27B"
   ]
  },
  {
   "cell_type": "code",
   "execution_count": 14,
   "id": "409a8640",
   "metadata": {},
   "outputs": [
    {
     "name": "stderr",
     "output_type": "stream",
     "text": [
      "  0%|          | 0/23 [00:00<?, ?it/s]"
     ]
    },
    {
     "name": "stdout",
     "output_type": "stream",
     "text": [
      "Processing ID M184601: QUESTION WITHOUT IMAGE\n"
     ]
    },
    {
     "name": "stderr",
     "output_type": "stream",
     "text": [
      "  4%|▍         | 1/23 [00:12<04:36, 12.55s/it]"
     ]
    },
    {
     "name": "stdout",
     "output_type": "stream",
     "text": [
      "Processing ID M130101: QUESTION WITHOUT IMAGE\n"
     ]
    },
    {
     "name": "stderr",
     "output_type": "stream",
     "text": [
      "  9%|▊         | 2/23 [00:20<03:21,  9.58s/it]"
     ]
    },
    {
     "name": "stdout",
     "output_type": "stream",
     "text": [
      "Processing ID M190101: QUESTION WITHOUT IMAGE\n"
     ]
    },
    {
     "name": "stderr",
     "output_type": "stream",
     "text": [
      " 13%|█▎        | 3/23 [00:26<02:46,  8.34s/it]"
     ]
    },
    {
     "name": "stdout",
     "output_type": "stream",
     "text": [
      "Processing ID M191501: QUESTION WITHOUT IMAGE\n"
     ]
    },
    {
     "name": "stderr",
     "output_type": "stream",
     "text": [
      " 17%|█▋        | 4/23 [00:31<02:10,  6.89s/it]"
     ]
    },
    {
     "name": "stdout",
     "output_type": "stream",
     "text": [
      "Processing ID M135401: QUESTION WITHOUT IMAGE\n"
     ]
    },
    {
     "name": "stderr",
     "output_type": "stream",
     "text": [
      " 22%|██▏       | 5/23 [00:38<02:07,  7.06s/it]"
     ]
    },
    {
     "name": "stdout",
     "output_type": "stream",
     "text": [
      "Processing ID M180601: QUESTION WITHOUT IMAGE\n"
     ]
    },
    {
     "name": "stderr",
     "output_type": "stream",
     "text": [
      " 26%|██▌       | 6/23 [00:45<01:56,  6.88s/it]"
     ]
    },
    {
     "name": "stdout",
     "output_type": "stream",
     "text": [
      "Processing ID M135301: QUESTION WITHOUT IMAGE\n"
     ]
    },
    {
     "name": "stderr",
     "output_type": "stream",
     "text": [
      " 30%|███       | 7/23 [00:51<01:45,  6.57s/it]"
     ]
    },
    {
     "name": "stdout",
     "output_type": "stream",
     "text": [
      "Processing ID M094901: QUESTION WITHOUT IMAGE\n"
     ]
    },
    {
     "name": "stderr",
     "output_type": "stream",
     "text": [
      " 35%|███▍      | 8/23 [00:56<01:31,  6.10s/it]"
     ]
    },
    {
     "name": "stdout",
     "output_type": "stream",
     "text": [
      "Processing ID M011331: QUESTION WITHOUT IMAGE\n"
     ]
    },
    {
     "name": "stderr",
     "output_type": "stream",
     "text": [
      " 39%|███▉      | 9/23 [01:01<01:21,  5.85s/it]"
     ]
    },
    {
     "name": "stdout",
     "output_type": "stream",
     "text": [
      "Processing ID M094801: QUESTION WITHOUT IMAGE\n"
     ]
    },
    {
     "name": "stderr",
     "output_type": "stream",
     "text": [
      " 43%|████▎     | 10/23 [01:08<01:20,  6.19s/it]"
     ]
    },
    {
     "name": "stdout",
     "output_type": "stream",
     "text": [
      "Processing ID M071601: QUESTION WITHOUT IMAGE\n"
     ]
    },
    {
     "name": "stderr",
     "output_type": "stream",
     "text": [
      " 48%|████▊     | 11/23 [01:13<01:08,  5.75s/it]"
     ]
    },
    {
     "name": "stdout",
     "output_type": "stream",
     "text": [
      "Processing ID M059001: QUESTION WITHOUT IMAGE\n"
     ]
    },
    {
     "name": "stderr",
     "output_type": "stream",
     "text": [
      " 52%|█████▏    | 12/23 [01:20<01:07,  6.17s/it]"
     ]
    },
    {
     "name": "stdout",
     "output_type": "stream",
     "text": [
      "Processing ID M053201: QUESTION WITHOUT IMAGE\n"
     ]
    },
    {
     "name": "stderr",
     "output_type": "stream",
     "text": [
      " 57%|█████▋    | 13/23 [01:28<01:05,  6.57s/it]"
     ]
    },
    {
     "name": "stdout",
     "output_type": "stream",
     "text": [
      "Processing ID M059601: QUESTION WITHOUT IMAGE\n"
     ]
    },
    {
     "name": "stderr",
     "output_type": "stream",
     "text": [
      " 61%|██████    | 14/23 [01:33<00:55,  6.12s/it]"
     ]
    },
    {
     "name": "stdout",
     "output_type": "stream",
     "text": [
      "Processing ID M019401: QUESTION WITHOUT IMAGE\n"
     ]
    },
    {
     "name": "stderr",
     "output_type": "stream",
     "text": [
      " 65%|██████▌   | 15/23 [01:45<01:02,  7.85s/it]"
     ]
    },
    {
     "name": "stdout",
     "output_type": "stream",
     "text": [
      "Processing ID M127501: QUESTION WITHOUT IMAGE\n"
     ]
    },
    {
     "name": "stderr",
     "output_type": "stream",
     "text": [
      " 70%|██████▉   | 16/23 [01:54<00:58,  8.40s/it]"
     ]
    },
    {
     "name": "stdout",
     "output_type": "stream",
     "text": [
      "Processing ID M133101: QUESTION WITHOUT IMAGE\n"
     ]
    },
    {
     "name": "stderr",
     "output_type": "stream",
     "text": [
      " 74%|███████▍  | 17/23 [01:59<00:44,  7.38s/it]"
     ]
    },
    {
     "name": "stdout",
     "output_type": "stream",
     "text": [
      "Processing ID M130001: QUESTION WITHOUT IMAGE\n"
     ]
    },
    {
     "name": "stderr",
     "output_type": "stream",
     "text": [
      " 78%|███████▊  | 18/23 [02:05<00:35,  7.01s/it]"
     ]
    },
    {
     "name": "stdout",
     "output_type": "stream",
     "text": [
      "Processing ID M127901: QUESTION WITHOUT IMAGE\n"
     ]
    },
    {
     "name": "stderr",
     "output_type": "stream",
     "text": [
      " 83%|████████▎ | 19/23 [02:13<00:29,  7.25s/it]"
     ]
    },
    {
     "name": "stdout",
     "output_type": "stream",
     "text": [
      "Processing ID M135301: QUESTION WITHOUT IMAGE\n"
     ]
    },
    {
     "name": "stderr",
     "output_type": "stream",
     "text": [
      " 87%|████████▋ | 20/23 [02:19<00:20,  6.90s/it]"
     ]
    },
    {
     "name": "stdout",
     "output_type": "stream",
     "text": [
      "Processing ID M127001: QUESTION WITHOUT IMAGE\n"
     ]
    },
    {
     "name": "stderr",
     "output_type": "stream",
     "text": [
      " 91%|█████████▏| 21/23 [02:27<00:14,  7.04s/it]"
     ]
    },
    {
     "name": "stdout",
     "output_type": "stream",
     "text": [
      "Processing ID M135401: QUESTION WITHOUT IMAGE\n"
     ]
    },
    {
     "name": "stderr",
     "output_type": "stream",
     "text": [
      " 96%|█████████▌| 22/23 [02:34<00:07,  7.27s/it]"
     ]
    },
    {
     "name": "stdout",
     "output_type": "stream",
     "text": [
      "Processing ID M130101: QUESTION WITHOUT IMAGE\n"
     ]
    },
    {
     "name": "stderr",
     "output_type": "stream",
     "text": [
      "100%|██████████| 23/23 [02:41<00:00,  7.01s/it]\n"
     ]
    }
   ],
   "source": [
    "gemma3_responses = collect_responses(naem_df, 'gemma3')\n",
    "gemma3_responses_df = pd.DataFrame(gemma3_responses)\n",
    "gemma3_responses_df.to_csv('responses_mcq/gemma3_naep_2.csv')"
   ]
  },
  {
   "cell_type": "markdown",
   "id": "bc1e5a70",
   "metadata": {},
   "source": [
    "### Qwen"
   ]
  },
  {
   "cell_type": "code",
   "execution_count": 29,
   "id": "d2c71c62",
   "metadata": {},
   "outputs": [
    {
     "name": "stderr",
     "output_type": "stream",
     "text": [
      "  0%|          | 0/23 [00:00<?, ?it/s]"
     ]
    },
    {
     "name": "stdout",
     "output_type": "stream",
     "text": [
      "Processing ID M184601: QUESTION WITHOUT IMAGE\n"
     ]
    },
    {
     "name": "stderr",
     "output_type": "stream",
     "text": [
      "  4%|▍         | 1/23 [00:52<19:18, 52.64s/it]"
     ]
    },
    {
     "name": "stdout",
     "output_type": "stream",
     "text": [
      "Processing ID M130101: QUESTION WITHOUT IMAGE\n"
     ]
    },
    {
     "name": "stderr",
     "output_type": "stream",
     "text": [
      "  9%|▊         | 2/23 [03:36<41:13, 117.80s/it]"
     ]
    },
    {
     "name": "stdout",
     "output_type": "stream",
     "text": [
      "Processing ID M190101: QUESTION WITHOUT IMAGE\n"
     ]
    },
    {
     "name": "stderr",
     "output_type": "stream",
     "text": [
      " 13%|█▎        | 3/23 [06:59<52:15, 156.75s/it]"
     ]
    },
    {
     "name": "stdout",
     "output_type": "stream",
     "text": [
      "Processing ID M191501: QUESTION WITHOUT IMAGE\n"
     ]
    },
    {
     "name": "stderr",
     "output_type": "stream",
     "text": [
      " 17%|█▋        | 4/23 [08:21<40:21, 127.47s/it]"
     ]
    },
    {
     "name": "stdout",
     "output_type": "stream",
     "text": [
      "Processing ID M135401: QUESTION WITHOUT IMAGE\n"
     ]
    },
    {
     "name": "stderr",
     "output_type": "stream",
     "text": [
      " 22%|██▏       | 5/23 [10:37<39:10, 130.60s/it]"
     ]
    },
    {
     "name": "stdout",
     "output_type": "stream",
     "text": [
      "Processing ID M180601: QUESTION WITHOUT IMAGE\n"
     ]
    },
    {
     "name": "stderr",
     "output_type": "stream",
     "text": [
      " 26%|██▌       | 6/23 [11:17<28:15, 99.74s/it] "
     ]
    },
    {
     "name": "stdout",
     "output_type": "stream",
     "text": [
      "Processing ID M135301: QUESTION WITHOUT IMAGE\n"
     ]
    },
    {
     "name": "stderr",
     "output_type": "stream",
     "text": [
      " 30%|███       | 7/23 [12:25<23:50, 89.42s/it]"
     ]
    },
    {
     "name": "stdout",
     "output_type": "stream",
     "text": [
      "Processing ID M094901: QUESTION WITHOUT IMAGE\n"
     ]
    },
    {
     "name": "stderr",
     "output_type": "stream",
     "text": [
      " 35%|███▍      | 8/23 [12:56<17:38, 70.58s/it]"
     ]
    },
    {
     "name": "stdout",
     "output_type": "stream",
     "text": [
      "Processing ID M011331: QUESTION WITHOUT IMAGE\n"
     ]
    },
    {
     "name": "stderr",
     "output_type": "stream",
     "text": [
      " 39%|███▉      | 9/23 [13:40<14:31, 62.27s/it]"
     ]
    },
    {
     "name": "stdout",
     "output_type": "stream",
     "text": [
      "Processing ID M094801: QUESTION WITHOUT IMAGE\n"
     ]
    },
    {
     "name": "stderr",
     "output_type": "stream",
     "text": [
      " 43%|████▎     | 10/23 [14:52<14:09, 65.32s/it]"
     ]
    },
    {
     "name": "stdout",
     "output_type": "stream",
     "text": [
      "Processing ID M071601: QUESTION WITHOUT IMAGE\n"
     ]
    },
    {
     "name": "stderr",
     "output_type": "stream",
     "text": [
      " 48%|████▊     | 11/23 [15:41<12:05, 60.43s/it]"
     ]
    },
    {
     "name": "stdout",
     "output_type": "stream",
     "text": [
      "Processing ID M059001: QUESTION WITHOUT IMAGE\n"
     ]
    },
    {
     "name": "stderr",
     "output_type": "stream",
     "text": [
      " 52%|█████▏    | 12/23 [16:27<10:15, 55.99s/it]"
     ]
    },
    {
     "name": "stdout",
     "output_type": "stream",
     "text": [
      "Processing ID M053201: QUESTION WITHOUT IMAGE\n"
     ]
    },
    {
     "name": "stderr",
     "output_type": "stream",
     "text": [
      " 57%|█████▋    | 13/23 [16:39<07:06, 42.66s/it]"
     ]
    },
    {
     "name": "stdout",
     "output_type": "stream",
     "text": [
      "Processing ID M059601: QUESTION WITHOUT IMAGE\n"
     ]
    },
    {
     "name": "stderr",
     "output_type": "stream",
     "text": [
      " 61%|██████    | 14/23 [17:07<05:42, 38.10s/it]"
     ]
    },
    {
     "name": "stdout",
     "output_type": "stream",
     "text": [
      "Processing ID M019401: QUESTION WITHOUT IMAGE\n"
     ]
    },
    {
     "name": "stderr",
     "output_type": "stream",
     "text": [
      " 65%|██████▌   | 15/23 [19:04<08:15, 62.00s/it]"
     ]
    },
    {
     "name": "stdout",
     "output_type": "stream",
     "text": [
      "Processing ID M127501: QUESTION WITHOUT IMAGE\n"
     ]
    },
    {
     "name": "stderr",
     "output_type": "stream",
     "text": [
      " 70%|██████▉   | 16/23 [19:33<06:04, 52.05s/it]"
     ]
    },
    {
     "name": "stdout",
     "output_type": "stream",
     "text": [
      "Processing ID M133101: QUESTION WITHOUT IMAGE\n"
     ]
    },
    {
     "name": "stderr",
     "output_type": "stream",
     "text": [
      " 74%|███████▍  | 17/23 [20:36<05:31, 55.28s/it]"
     ]
    },
    {
     "name": "stdout",
     "output_type": "stream",
     "text": [
      "Processing ID M130001: QUESTION WITHOUT IMAGE\n"
     ]
    },
    {
     "name": "stderr",
     "output_type": "stream",
     "text": [
      " 78%|███████▊  | 18/23 [21:49<05:03, 60.72s/it]"
     ]
    },
    {
     "name": "stdout",
     "output_type": "stream",
     "text": [
      "Processing ID M127901: QUESTION WITHOUT IMAGE\n"
     ]
    },
    {
     "name": "stderr",
     "output_type": "stream",
     "text": [
      " 83%|████████▎ | 19/23 [23:10<04:27, 66.86s/it]"
     ]
    },
    {
     "name": "stdout",
     "output_type": "stream",
     "text": [
      "Processing ID M135301: QUESTION WITHOUT IMAGE\n"
     ]
    },
    {
     "name": "stderr",
     "output_type": "stream",
     "text": [
      " 87%|████████▋ | 20/23 [24:52<03:51, 77.21s/it]"
     ]
    },
    {
     "name": "stdout",
     "output_type": "stream",
     "text": [
      "Processing ID M127001: QUESTION WITHOUT IMAGE\n"
     ]
    },
    {
     "name": "stderr",
     "output_type": "stream",
     "text": [
      " 91%|█████████▏| 21/23 [25:10<01:59, 59.67s/it]"
     ]
    },
    {
     "name": "stdout",
     "output_type": "stream",
     "text": [
      "Processing ID M135401: QUESTION WITHOUT IMAGE\n"
     ]
    },
    {
     "name": "stderr",
     "output_type": "stream",
     "text": [
      " 96%|█████████▌| 22/23 [27:45<01:28, 88.06s/it]"
     ]
    },
    {
     "name": "stdout",
     "output_type": "stream",
     "text": [
      "Processing ID M130101: QUESTION WITHOUT IMAGE\n"
     ]
    },
    {
     "name": "stderr",
     "output_type": "stream",
     "text": [
      "100%|██████████| 23/23 [30:28<00:00, 79.48s/it] \n"
     ]
    }
   ],
   "source": [
    "qwen_responses = collect_responses(naem_df, 'qwen2.5')\n",
    "qwen_responses_df = pd.DataFrame(qwen_responses)\n",
    "qwen_responses_df.to_csv('responses_mcq/qwen2.5_naep_2.csv')"
   ]
  },
  {
   "cell_type": "code",
   "execution_count": 34,
   "id": "f2b3c103",
   "metadata": {},
   "outputs": [
    {
     "name": "stderr",
     "output_type": "stream",
     "text": [
      "  0%|          | 0/23 [00:00<?, ?it/s]"
     ]
    },
    {
     "name": "stdout",
     "output_type": "stream",
     "text": [
      "Processing ID M184601: QUESTION WITHOUT IMAGE\n"
     ]
    },
    {
     "name": "stderr",
     "output_type": "stream",
     "text": [
      "  4%|▍         | 1/23 [00:01<00:31,  1.43s/it]"
     ]
    },
    {
     "name": "stdout",
     "output_type": "stream",
     "text": [
      "Processing ID M130101: QUESTION WITHOUT IMAGE\n"
     ]
    },
    {
     "name": "stderr",
     "output_type": "stream",
     "text": [
      "  9%|▊         | 2/23 [00:02<00:20,  1.01it/s]"
     ]
    },
    {
     "name": "stdout",
     "output_type": "stream",
     "text": [
      "Processing ID M190101: QUESTION WITHOUT IMAGE\n"
     ]
    },
    {
     "name": "stderr",
     "output_type": "stream",
     "text": [
      " 13%|█▎        | 3/23 [00:04<00:28,  1.41s/it]"
     ]
    },
    {
     "name": "stdout",
     "output_type": "stream",
     "text": [
      "Processing ID M191501: QUESTION WITHOUT IMAGE\n"
     ]
    },
    {
     "name": "stderr",
     "output_type": "stream",
     "text": [
      " 17%|█▋        | 4/23 [00:04<00:21,  1.11s/it]"
     ]
    },
    {
     "name": "stdout",
     "output_type": "stream",
     "text": [
      "Processing ID M135401: QUESTION WITHOUT IMAGE\n"
     ]
    },
    {
     "name": "stderr",
     "output_type": "stream",
     "text": [
      " 22%|██▏       | 5/23 [00:05<00:17,  1.02it/s]"
     ]
    },
    {
     "name": "stdout",
     "output_type": "stream",
     "text": [
      "Processing ID M180601: QUESTION WITHOUT IMAGE\n"
     ]
    },
    {
     "name": "stderr",
     "output_type": "stream",
     "text": [
      " 26%|██▌       | 6/23 [00:06<00:14,  1.18it/s]"
     ]
    },
    {
     "name": "stdout",
     "output_type": "stream",
     "text": [
      "Processing ID M135301: QUESTION WITHOUT IMAGE\n"
     ]
    },
    {
     "name": "stderr",
     "output_type": "stream",
     "text": [
      " 30%|███       | 7/23 [00:06<00:12,  1.27it/s]"
     ]
    },
    {
     "name": "stdout",
     "output_type": "stream",
     "text": [
      "Processing ID M094901: QUESTION WITHOUT IMAGE\n"
     ]
    },
    {
     "name": "stderr",
     "output_type": "stream",
     "text": [
      " 35%|███▍      | 8/23 [00:07<00:11,  1.31it/s]"
     ]
    },
    {
     "name": "stdout",
     "output_type": "stream",
     "text": [
      "Processing ID M011331: QUESTION WITHOUT IMAGE\n"
     ]
    },
    {
     "name": "stderr",
     "output_type": "stream",
     "text": [
      " 39%|███▉      | 9/23 [00:08<00:10,  1.38it/s]"
     ]
    },
    {
     "name": "stdout",
     "output_type": "stream",
     "text": [
      "Processing ID M094801: QUESTION WITHOUT IMAGE\n"
     ]
    },
    {
     "name": "stderr",
     "output_type": "stream",
     "text": [
      " 43%|████▎     | 10/23 [00:08<00:08,  1.45it/s]"
     ]
    },
    {
     "name": "stdout",
     "output_type": "stream",
     "text": [
      "Processing ID M071601: QUESTION WITHOUT IMAGE\n"
     ]
    },
    {
     "name": "stderr",
     "output_type": "stream",
     "text": [
      " 48%|████▊     | 11/23 [00:09<00:08,  1.50it/s]"
     ]
    },
    {
     "name": "stdout",
     "output_type": "stream",
     "text": [
      "Processing ID M059001: QUESTION WITHOUT IMAGE\n"
     ]
    },
    {
     "name": "stderr",
     "output_type": "stream",
     "text": [
      " 52%|█████▏    | 12/23 [00:09<00:07,  1.52it/s]"
     ]
    },
    {
     "name": "stdout",
     "output_type": "stream",
     "text": [
      "Processing ID M053201: QUESTION WITHOUT IMAGE\n"
     ]
    },
    {
     "name": "stderr",
     "output_type": "stream",
     "text": [
      " 57%|█████▋    | 13/23 [00:10<00:06,  1.57it/s]"
     ]
    },
    {
     "name": "stdout",
     "output_type": "stream",
     "text": [
      "Processing ID M059601: QUESTION WITHOUT IMAGE\n"
     ]
    },
    {
     "name": "stderr",
     "output_type": "stream",
     "text": [
      " 61%|██████    | 14/23 [00:11<00:05,  1.58it/s]"
     ]
    },
    {
     "name": "stdout",
     "output_type": "stream",
     "text": [
      "Processing ID M019401: QUESTION WITHOUT IMAGE\n"
     ]
    },
    {
     "name": "stderr",
     "output_type": "stream",
     "text": [
      " 65%|██████▌   | 15/23 [00:11<00:05,  1.49it/s]"
     ]
    },
    {
     "name": "stdout",
     "output_type": "stream",
     "text": [
      "Processing ID M127501: QUESTION WITHOUT IMAGE\n"
     ]
    },
    {
     "name": "stderr",
     "output_type": "stream",
     "text": [
      " 70%|██████▉   | 16/23 [00:12<00:04,  1.51it/s]"
     ]
    },
    {
     "name": "stdout",
     "output_type": "stream",
     "text": [
      "Processing ID M133101: QUESTION WITHOUT IMAGE\n"
     ]
    },
    {
     "name": "stderr",
     "output_type": "stream",
     "text": [
      " 74%|███████▍  | 17/23 [00:13<00:04,  1.43it/s]"
     ]
    },
    {
     "name": "stdout",
     "output_type": "stream",
     "text": [
      "Processing ID M130001: QUESTION WITHOUT IMAGE\n"
     ]
    },
    {
     "name": "stderr",
     "output_type": "stream",
     "text": [
      " 78%|███████▊  | 18/23 [00:13<00:03,  1.45it/s]"
     ]
    },
    {
     "name": "stdout",
     "output_type": "stream",
     "text": [
      "Processing ID M127901: QUESTION WITHOUT IMAGE\n"
     ]
    },
    {
     "name": "stderr",
     "output_type": "stream",
     "text": [
      " 83%|████████▎ | 19/23 [00:14<00:02,  1.47it/s]"
     ]
    },
    {
     "name": "stdout",
     "output_type": "stream",
     "text": [
      "Processing ID M135301: QUESTION WITHOUT IMAGE\n"
     ]
    },
    {
     "name": "stderr",
     "output_type": "stream",
     "text": [
      " 87%|████████▋ | 20/23 [00:15<00:01,  1.52it/s]"
     ]
    },
    {
     "name": "stdout",
     "output_type": "stream",
     "text": [
      "Processing ID M127001: QUESTION WITHOUT IMAGE\n"
     ]
    },
    {
     "name": "stderr",
     "output_type": "stream",
     "text": [
      " 91%|█████████▏| 21/23 [00:15<00:01,  1.46it/s]"
     ]
    },
    {
     "name": "stdout",
     "output_type": "stream",
     "text": [
      "Processing ID M135401: QUESTION WITHOUT IMAGE\n"
     ]
    },
    {
     "name": "stderr",
     "output_type": "stream",
     "text": [
      " 96%|█████████▌| 22/23 [00:16<00:00,  1.43it/s]"
     ]
    },
    {
     "name": "stdout",
     "output_type": "stream",
     "text": [
      "Processing ID M130101: QUESTION WITHOUT IMAGE\n"
     ]
    },
    {
     "name": "stderr",
     "output_type": "stream",
     "text": [
      "100%|██████████| 23/23 [00:17<00:00,  1.32it/s]\n"
     ]
    }
   ],
   "source": [
    "llama_responses = collect_responses(naem_df, 'llama3')\n",
    "llama_responses_df = pd.DataFrame(llama_responses)\n",
    "llama_responses_df.to_csv('responses_mcq/llama3_naep_2.csv')"
   ]
  },
  {
   "cell_type": "code",
   "execution_count": null,
   "id": "6dcbe890",
   "metadata": {},
   "outputs": [],
   "source": []
  }
 ],
 "metadata": {
  "kernelspec": {
   "display_name": "NLG_project",
   "language": "python",
   "name": "python3"
  },
  "language_info": {
   "codemirror_mode": {
    "name": "ipython",
    "version": 3
   },
   "file_extension": ".py",
   "mimetype": "text/x-python",
   "name": "python",
   "nbconvert_exporter": "python",
   "pygments_lexer": "ipython3",
   "version": "3.11.11"
  }
 },
 "nbformat": 4,
 "nbformat_minor": 5
}
